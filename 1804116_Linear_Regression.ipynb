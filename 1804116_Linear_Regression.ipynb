{
  "cells": [
    {
      "cell_type": "code",
      "execution_count": null,
      "metadata": {
        "id": "kNvDlic4FJj_"
      },
      "outputs": [],
      "source": [
        "import numpy as np\n",
        "import pandas as pd\n"
      ]
    },
    {
      "cell_type": "code",
      "execution_count": null,
      "metadata": {
        "colab": {
          "base_uri": "https://localhost:8080/"
        },
        "id": "CgWzktbeFifE",
        "outputId": "29e04702-d741-49fc-bbf2-95432f6ee5c3"
      },
      "outputs": [
        {
          "output_type": "execute_result",
          "data": {
            "text/plain": [
              "                                               title beds bath        area  \\\n",
              "0  Eminent Apartment Of 2200 Sq Ft Is Vacant For ...   3    4   2,200 sqft   \n",
              "1  Apartment Ready To Rent In South Khulshi, Near...   3    4   1,400 sqft   \n",
              "2  Smartly priced 1950 SQ FT apartment, that you ...   3    4   1,950 sqft   \n",
              "3  2000 Sq Ft Residential Apartment Is Up For Ren...   3    3   2,000 sqft   \n",
              "4  Strongly Structured This 1650 Sq. ft Apartment...   3    4   1,650 sqft   \n",
              "\n",
              "                               adress       type   purpose  \\\n",
              "0     Block A, Bashundhara R-A, Dhaka  Apartment  For Rent   \n",
              "1  South Khulshi, Khulshi, Chattogram  Apartment  For Rent   \n",
              "2     Block F, Bashundhara R-A, Dhaka  Apartment  For Rent   \n",
              "3             Sector 9, Uttara, Dhaka  Apartment  For Rent   \n",
              "4     Block I, Bashundhara R-A, Dhaka  Apartment  For Rent   \n",
              "\n",
              "                                            flooPlan  \\\n",
              "0  https://images-cdn.bproperty.com/thumbnails/10...   \n",
              "1  https://images-cdn.bproperty.com/thumbnails/44...   \n",
              "2  https://images-cdn.bproperty.com/thumbnails/11...   \n",
              "3  https://images-cdn.bproperty.com/thumbnails/14...   \n",
              "4  https://images-cdn.bproperty.com/thumbnails/10...   \n",
              "\n",
              "                                                 url        lastUpdated  \\\n",
              "0  https://www.bproperty.com/en/property/details-...    August 13, 2022   \n",
              "1  https://www.bproperty.com/en/property/details-...   January 25, 2022   \n",
              "2  https://www.bproperty.com/en/property/details-...  February 22, 2023   \n",
              "3  https://www.bproperty.com/en/property/details-...   October 28, 2021   \n",
              "4  https://www.bproperty.com/en/property/details-...  February 19, 2023   \n",
              "\n",
              "         price  \n",
              "0  50 Thousand  \n",
              "1  30 Thousand  \n",
              "2  30 Thousand  \n",
              "3  35 Thousand  \n",
              "4  25 Thousand  "
            ],
            "text/html": [
              "\n",
              "  <div id=\"df-ca42c2d6-cacb-4fe1-882e-7ac5f9c936ea\">\n",
              "    <div class=\"colab-df-container\">\n",
              "      <div>\n",
              "<style scoped>\n",
              "    .dataframe tbody tr th:only-of-type {\n",
              "        vertical-align: middle;\n",
              "    }\n",
              "\n",
              "    .dataframe tbody tr th {\n",
              "        vertical-align: top;\n",
              "    }\n",
              "\n",
              "    .dataframe thead th {\n",
              "        text-align: right;\n",
              "    }\n",
              "</style>\n",
              "<table border=\"1\" class=\"dataframe\">\n",
              "  <thead>\n",
              "    <tr style=\"text-align: right;\">\n",
              "      <th></th>\n",
              "      <th>title</th>\n",
              "      <th>beds</th>\n",
              "      <th>bath</th>\n",
              "      <th>area</th>\n",
              "      <th>adress</th>\n",
              "      <th>type</th>\n",
              "      <th>purpose</th>\n",
              "      <th>flooPlan</th>\n",
              "      <th>url</th>\n",
              "      <th>lastUpdated</th>\n",
              "      <th>price</th>\n",
              "    </tr>\n",
              "  </thead>\n",
              "  <tbody>\n",
              "    <tr>\n",
              "      <th>0</th>\n",
              "      <td>Eminent Apartment Of 2200 Sq Ft Is Vacant For ...</td>\n",
              "      <td>3</td>\n",
              "      <td>4</td>\n",
              "      <td>2,200 sqft</td>\n",
              "      <td>Block A, Bashundhara R-A, Dhaka</td>\n",
              "      <td>Apartment</td>\n",
              "      <td>For Rent</td>\n",
              "      <td>https://images-cdn.bproperty.com/thumbnails/10...</td>\n",
              "      <td>https://www.bproperty.com/en/property/details-...</td>\n",
              "      <td>August 13, 2022</td>\n",
              "      <td>50 Thousand</td>\n",
              "    </tr>\n",
              "    <tr>\n",
              "      <th>1</th>\n",
              "      <td>Apartment Ready To Rent In South Khulshi, Near...</td>\n",
              "      <td>3</td>\n",
              "      <td>4</td>\n",
              "      <td>1,400 sqft</td>\n",
              "      <td>South Khulshi, Khulshi, Chattogram</td>\n",
              "      <td>Apartment</td>\n",
              "      <td>For Rent</td>\n",
              "      <td>https://images-cdn.bproperty.com/thumbnails/44...</td>\n",
              "      <td>https://www.bproperty.com/en/property/details-...</td>\n",
              "      <td>January 25, 2022</td>\n",
              "      <td>30 Thousand</td>\n",
              "    </tr>\n",
              "    <tr>\n",
              "      <th>2</th>\n",
              "      <td>Smartly priced 1950 SQ FT apartment, that you ...</td>\n",
              "      <td>3</td>\n",
              "      <td>4</td>\n",
              "      <td>1,950 sqft</td>\n",
              "      <td>Block F, Bashundhara R-A, Dhaka</td>\n",
              "      <td>Apartment</td>\n",
              "      <td>For Rent</td>\n",
              "      <td>https://images-cdn.bproperty.com/thumbnails/11...</td>\n",
              "      <td>https://www.bproperty.com/en/property/details-...</td>\n",
              "      <td>February 22, 2023</td>\n",
              "      <td>30 Thousand</td>\n",
              "    </tr>\n",
              "    <tr>\n",
              "      <th>3</th>\n",
              "      <td>2000 Sq Ft Residential Apartment Is Up For Ren...</td>\n",
              "      <td>3</td>\n",
              "      <td>3</td>\n",
              "      <td>2,000 sqft</td>\n",
              "      <td>Sector 9, Uttara, Dhaka</td>\n",
              "      <td>Apartment</td>\n",
              "      <td>For Rent</td>\n",
              "      <td>https://images-cdn.bproperty.com/thumbnails/14...</td>\n",
              "      <td>https://www.bproperty.com/en/property/details-...</td>\n",
              "      <td>October 28, 2021</td>\n",
              "      <td>35 Thousand</td>\n",
              "    </tr>\n",
              "    <tr>\n",
              "      <th>4</th>\n",
              "      <td>Strongly Structured This 1650 Sq. ft Apartment...</td>\n",
              "      <td>3</td>\n",
              "      <td>4</td>\n",
              "      <td>1,650 sqft</td>\n",
              "      <td>Block I, Bashundhara R-A, Dhaka</td>\n",
              "      <td>Apartment</td>\n",
              "      <td>For Rent</td>\n",
              "      <td>https://images-cdn.bproperty.com/thumbnails/10...</td>\n",
              "      <td>https://www.bproperty.com/en/property/details-...</td>\n",
              "      <td>February 19, 2023</td>\n",
              "      <td>25 Thousand</td>\n",
              "    </tr>\n",
              "  </tbody>\n",
              "</table>\n",
              "</div>\n",
              "      <button class=\"colab-df-convert\" onclick=\"convertToInteractive('df-ca42c2d6-cacb-4fe1-882e-7ac5f9c936ea')\"\n",
              "              title=\"Convert this dataframe to an interactive table.\"\n",
              "              style=\"display:none;\">\n",
              "        \n",
              "  <svg xmlns=\"http://www.w3.org/2000/svg\" height=\"24px\"viewBox=\"0 0 24 24\"\n",
              "       width=\"24px\">\n",
              "    <path d=\"M0 0h24v24H0V0z\" fill=\"none\"/>\n",
              "    <path d=\"M18.56 5.44l.94 2.06.94-2.06 2.06-.94-2.06-.94-.94-2.06-.94 2.06-2.06.94zm-11 1L8.5 8.5l.94-2.06 2.06-.94-2.06-.94L8.5 2.5l-.94 2.06-2.06.94zm10 10l.94 2.06.94-2.06 2.06-.94-2.06-.94-.94-2.06-.94 2.06-2.06.94z\"/><path d=\"M17.41 7.96l-1.37-1.37c-.4-.4-.92-.59-1.43-.59-.52 0-1.04.2-1.43.59L10.3 9.45l-7.72 7.72c-.78.78-.78 2.05 0 2.83L4 21.41c.39.39.9.59 1.41.59.51 0 1.02-.2 1.41-.59l7.78-7.78 2.81-2.81c.8-.78.8-2.07 0-2.86zM5.41 20L4 18.59l7.72-7.72 1.47 1.35L5.41 20z\"/>\n",
              "  </svg>\n",
              "      </button>\n",
              "      \n",
              "  <style>\n",
              "    .colab-df-container {\n",
              "      display:flex;\n",
              "      flex-wrap:wrap;\n",
              "      gap: 12px;\n",
              "    }\n",
              "\n",
              "    .colab-df-convert {\n",
              "      background-color: #E8F0FE;\n",
              "      border: none;\n",
              "      border-radius: 50%;\n",
              "      cursor: pointer;\n",
              "      display: none;\n",
              "      fill: #1967D2;\n",
              "      height: 32px;\n",
              "      padding: 0 0 0 0;\n",
              "      width: 32px;\n",
              "    }\n",
              "\n",
              "    .colab-df-convert:hover {\n",
              "      background-color: #E2EBFA;\n",
              "      box-shadow: 0px 1px 2px rgba(60, 64, 67, 0.3), 0px 1px 3px 1px rgba(60, 64, 67, 0.15);\n",
              "      fill: #174EA6;\n",
              "    }\n",
              "\n",
              "    [theme=dark] .colab-df-convert {\n",
              "      background-color: #3B4455;\n",
              "      fill: #D2E3FC;\n",
              "    }\n",
              "\n",
              "    [theme=dark] .colab-df-convert:hover {\n",
              "      background-color: #434B5C;\n",
              "      box-shadow: 0px 1px 3px 1px rgba(0, 0, 0, 0.15);\n",
              "      filter: drop-shadow(0px 1px 2px rgba(0, 0, 0, 0.3));\n",
              "      fill: #FFFFFF;\n",
              "    }\n",
              "  </style>\n",
              "\n",
              "      <script>\n",
              "        const buttonEl =\n",
              "          document.querySelector('#df-ca42c2d6-cacb-4fe1-882e-7ac5f9c936ea button.colab-df-convert');\n",
              "        buttonEl.style.display =\n",
              "          google.colab.kernel.accessAllowed ? 'block' : 'none';\n",
              "\n",
              "        async function convertToInteractive(key) {\n",
              "          const element = document.querySelector('#df-ca42c2d6-cacb-4fe1-882e-7ac5f9c936ea');\n",
              "          const dataTable =\n",
              "            await google.colab.kernel.invokeFunction('convertToInteractive',\n",
              "                                                     [key], {});\n",
              "          if (!dataTable) return;\n",
              "\n",
              "          const docLinkHtml = 'Like what you see? Visit the ' +\n",
              "            '<a target=\"_blank\" href=https://colab.research.google.com/notebooks/data_table.ipynb>data table notebook</a>'\n",
              "            + ' to learn more about interactive tables.';\n",
              "          element.innerHTML = '';\n",
              "          dataTable['output_type'] = 'display_data';\n",
              "          await google.colab.output.renderOutput(dataTable, element);\n",
              "          const docLink = document.createElement('div');\n",
              "          docLink.innerHTML = docLinkHtml;\n",
              "          element.appendChild(docLink);\n",
              "        }\n",
              "      </script>\n",
              "    </div>\n",
              "  </div>\n",
              "  "
            ]
          },
          "metadata": {},
          "execution_count": 2
        }
      ],
      "source": [
        "df=pd.read_csv(\"property_listing_data_in_Bangladesh.csv\")\n",
        "df.head()"
      ]
    },
    {
      "cell_type": "code",
      "execution_count": null,
      "metadata": {
        "colab": {
          "base_uri": "https://localhost:8080/",
          "height": 669
        },
        "id": "-H3eUzwbFIYk",
        "outputId": "64640e2f-212f-4e36-d6ca-f2256c01a461"
      },
      "outputs": [
        {
          "output_type": "execute_result",
          "data": {
            "text/plain": [
              "                                                  title beds bath        area  \\\n",
              "3374    At Katalganj 1880 Sq Ft Ready Apartment To Rent   3    3   1,880 sqft   \n",
              "3375  1200 Sq Ft Tranquil Flat For Rent In Motijheel...   3    3   1,200 sqft   \n",
              "3376  Checkout This Exclusive 2600 Sq Ft Apartment W...   3    3   2,600 sqft   \n",
              "3377  Express Your Individuality At This 2500 Sq. Ft...   3    3   2,500 sqft   \n",
              "3378  A Well-constructed 1200 Sq Ft Apartment Is Rea...   2    2   1,200 sqft   \n",
              "\n",
              "                                                 adress       type   purpose  \\\n",
              "3374  Katalganj Residential Area, 16 No. Chawk Bazaa...  Apartment  For Rent   \n",
              "3375                    Purana Paltan, Motijheel, Dhaka  Apartment  For Rent   \n",
              "3376                          Block K, Baridhara, Dhaka  Apartment  For Rent   \n",
              "3377                          Block K, Baridhara, Dhaka  Apartment  For Rent   \n",
              "3378                           Sector 11, Uttara, Dhaka  Apartment  For Rent   \n",
              "\n",
              "                                               flooPlan  \\\n",
              "3374  https://images-cdn.bproperty.com/thumbnails/14...   \n",
              "3375  https://images-cdn.bproperty.com/thumbnails/15...   \n",
              "3376  https://images-cdn.bproperty.com/thumbnails/15...   \n",
              "3377  https://images-cdn.bproperty.com/thumbnails/14...   \n",
              "3378  https://images-cdn.bproperty.com/thumbnails/15...   \n",
              "\n",
              "                                                    url        lastUpdated  \\\n",
              "3374  https://www.bproperty.com/en/property/details-...  December 11, 2022   \n",
              "3375  https://www.bproperty.com/en/property/details-...  November 30, 2022   \n",
              "3376  https://www.bproperty.com/en/property/details-...       June 3, 2022   \n",
              "3377  https://www.bproperty.com/en/property/details-...       June 3, 2022   \n",
              "3378      https://www.bproperty.com/en/property/details                NaN   \n",
              "\n",
              "            price  \n",
              "3374  35 Thousand  \n",
              "3375  30 Thousand  \n",
              "3376     1.4 Lakh  \n",
              "3377     1.2 Lakh  \n",
              "3378          NaN  "
            ],
            "text/html": [
              "\n",
              "  <div id=\"df-06c4f4ee-412f-43db-9595-5b85cfdffc4e\">\n",
              "    <div class=\"colab-df-container\">\n",
              "      <div>\n",
              "<style scoped>\n",
              "    .dataframe tbody tr th:only-of-type {\n",
              "        vertical-align: middle;\n",
              "    }\n",
              "\n",
              "    .dataframe tbody tr th {\n",
              "        vertical-align: top;\n",
              "    }\n",
              "\n",
              "    .dataframe thead th {\n",
              "        text-align: right;\n",
              "    }\n",
              "</style>\n",
              "<table border=\"1\" class=\"dataframe\">\n",
              "  <thead>\n",
              "    <tr style=\"text-align: right;\">\n",
              "      <th></th>\n",
              "      <th>title</th>\n",
              "      <th>beds</th>\n",
              "      <th>bath</th>\n",
              "      <th>area</th>\n",
              "      <th>adress</th>\n",
              "      <th>type</th>\n",
              "      <th>purpose</th>\n",
              "      <th>flooPlan</th>\n",
              "      <th>url</th>\n",
              "      <th>lastUpdated</th>\n",
              "      <th>price</th>\n",
              "    </tr>\n",
              "  </thead>\n",
              "  <tbody>\n",
              "    <tr>\n",
              "      <th>3374</th>\n",
              "      <td>At Katalganj 1880 Sq Ft Ready Apartment To Rent</td>\n",
              "      <td>3</td>\n",
              "      <td>3</td>\n",
              "      <td>1,880 sqft</td>\n",
              "      <td>Katalganj Residential Area, 16 No. Chawk Bazaa...</td>\n",
              "      <td>Apartment</td>\n",
              "      <td>For Rent</td>\n",
              "      <td>https://images-cdn.bproperty.com/thumbnails/14...</td>\n",
              "      <td>https://www.bproperty.com/en/property/details-...</td>\n",
              "      <td>December 11, 2022</td>\n",
              "      <td>35 Thousand</td>\n",
              "    </tr>\n",
              "    <tr>\n",
              "      <th>3375</th>\n",
              "      <td>1200 Sq Ft Tranquil Flat For Rent In Motijheel...</td>\n",
              "      <td>3</td>\n",
              "      <td>3</td>\n",
              "      <td>1,200 sqft</td>\n",
              "      <td>Purana Paltan, Motijheel, Dhaka</td>\n",
              "      <td>Apartment</td>\n",
              "      <td>For Rent</td>\n",
              "      <td>https://images-cdn.bproperty.com/thumbnails/15...</td>\n",
              "      <td>https://www.bproperty.com/en/property/details-...</td>\n",
              "      <td>November 30, 2022</td>\n",
              "      <td>30 Thousand</td>\n",
              "    </tr>\n",
              "    <tr>\n",
              "      <th>3376</th>\n",
              "      <td>Checkout This Exclusive 2600 Sq Ft Apartment W...</td>\n",
              "      <td>3</td>\n",
              "      <td>3</td>\n",
              "      <td>2,600 sqft</td>\n",
              "      <td>Block K, Baridhara, Dhaka</td>\n",
              "      <td>Apartment</td>\n",
              "      <td>For Rent</td>\n",
              "      <td>https://images-cdn.bproperty.com/thumbnails/15...</td>\n",
              "      <td>https://www.bproperty.com/en/property/details-...</td>\n",
              "      <td>June 3, 2022</td>\n",
              "      <td>1.4 Lakh</td>\n",
              "    </tr>\n",
              "    <tr>\n",
              "      <th>3377</th>\n",
              "      <td>Express Your Individuality At This 2500 Sq. Ft...</td>\n",
              "      <td>3</td>\n",
              "      <td>3</td>\n",
              "      <td>2,500 sqft</td>\n",
              "      <td>Block K, Baridhara, Dhaka</td>\n",
              "      <td>Apartment</td>\n",
              "      <td>For Rent</td>\n",
              "      <td>https://images-cdn.bproperty.com/thumbnails/14...</td>\n",
              "      <td>https://www.bproperty.com/en/property/details-...</td>\n",
              "      <td>June 3, 2022</td>\n",
              "      <td>1.2 Lakh</td>\n",
              "    </tr>\n",
              "    <tr>\n",
              "      <th>3378</th>\n",
              "      <td>A Well-constructed 1200 Sq Ft Apartment Is Rea...</td>\n",
              "      <td>2</td>\n",
              "      <td>2</td>\n",
              "      <td>1,200 sqft</td>\n",
              "      <td>Sector 11, Uttara, Dhaka</td>\n",
              "      <td>Apartment</td>\n",
              "      <td>For Rent</td>\n",
              "      <td>https://images-cdn.bproperty.com/thumbnails/15...</td>\n",
              "      <td>https://www.bproperty.com/en/property/details</td>\n",
              "      <td>NaN</td>\n",
              "      <td>NaN</td>\n",
              "    </tr>\n",
              "  </tbody>\n",
              "</table>\n",
              "</div>\n",
              "      <button class=\"colab-df-convert\" onclick=\"convertToInteractive('df-06c4f4ee-412f-43db-9595-5b85cfdffc4e')\"\n",
              "              title=\"Convert this dataframe to an interactive table.\"\n",
              "              style=\"display:none;\">\n",
              "        \n",
              "  <svg xmlns=\"http://www.w3.org/2000/svg\" height=\"24px\"viewBox=\"0 0 24 24\"\n",
              "       width=\"24px\">\n",
              "    <path d=\"M0 0h24v24H0V0z\" fill=\"none\"/>\n",
              "    <path d=\"M18.56 5.44l.94 2.06.94-2.06 2.06-.94-2.06-.94-.94-2.06-.94 2.06-2.06.94zm-11 1L8.5 8.5l.94-2.06 2.06-.94-2.06-.94L8.5 2.5l-.94 2.06-2.06.94zm10 10l.94 2.06.94-2.06 2.06-.94-2.06-.94-.94-2.06-.94 2.06-2.06.94z\"/><path d=\"M17.41 7.96l-1.37-1.37c-.4-.4-.92-.59-1.43-.59-.52 0-1.04.2-1.43.59L10.3 9.45l-7.72 7.72c-.78.78-.78 2.05 0 2.83L4 21.41c.39.39.9.59 1.41.59.51 0 1.02-.2 1.41-.59l7.78-7.78 2.81-2.81c.8-.78.8-2.07 0-2.86zM5.41 20L4 18.59l7.72-7.72 1.47 1.35L5.41 20z\"/>\n",
              "  </svg>\n",
              "      </button>\n",
              "      \n",
              "  <style>\n",
              "    .colab-df-container {\n",
              "      display:flex;\n",
              "      flex-wrap:wrap;\n",
              "      gap: 12px;\n",
              "    }\n",
              "\n",
              "    .colab-df-convert {\n",
              "      background-color: #E8F0FE;\n",
              "      border: none;\n",
              "      border-radius: 50%;\n",
              "      cursor: pointer;\n",
              "      display: none;\n",
              "      fill: #1967D2;\n",
              "      height: 32px;\n",
              "      padding: 0 0 0 0;\n",
              "      width: 32px;\n",
              "    }\n",
              "\n",
              "    .colab-df-convert:hover {\n",
              "      background-color: #E2EBFA;\n",
              "      box-shadow: 0px 1px 2px rgba(60, 64, 67, 0.3), 0px 1px 3px 1px rgba(60, 64, 67, 0.15);\n",
              "      fill: #174EA6;\n",
              "    }\n",
              "\n",
              "    [theme=dark] .colab-df-convert {\n",
              "      background-color: #3B4455;\n",
              "      fill: #D2E3FC;\n",
              "    }\n",
              "\n",
              "    [theme=dark] .colab-df-convert:hover {\n",
              "      background-color: #434B5C;\n",
              "      box-shadow: 0px 1px 3px 1px rgba(0, 0, 0, 0.15);\n",
              "      filter: drop-shadow(0px 1px 2px rgba(0, 0, 0, 0.3));\n",
              "      fill: #FFFFFF;\n",
              "    }\n",
              "  </style>\n",
              "\n",
              "      <script>\n",
              "        const buttonEl =\n",
              "          document.querySelector('#df-06c4f4ee-412f-43db-9595-5b85cfdffc4e button.colab-df-convert');\n",
              "        buttonEl.style.display =\n",
              "          google.colab.kernel.accessAllowed ? 'block' : 'none';\n",
              "\n",
              "        async function convertToInteractive(key) {\n",
              "          const element = document.querySelector('#df-06c4f4ee-412f-43db-9595-5b85cfdffc4e');\n",
              "          const dataTable =\n",
              "            await google.colab.kernel.invokeFunction('convertToInteractive',\n",
              "                                                     [key], {});\n",
              "          if (!dataTable) return;\n",
              "\n",
              "          const docLinkHtml = 'Like what you see? Visit the ' +\n",
              "            '<a target=\"_blank\" href=https://colab.research.google.com/notebooks/data_table.ipynb>data table notebook</a>'\n",
              "            + ' to learn more about interactive tables.';\n",
              "          element.innerHTML = '';\n",
              "          dataTable['output_type'] = 'display_data';\n",
              "          await google.colab.output.renderOutput(dataTable, element);\n",
              "          const docLink = document.createElement('div');\n",
              "          docLink.innerHTML = docLinkHtml;\n",
              "          element.appendChild(docLink);\n",
              "        }\n",
              "      </script>\n",
              "    </div>\n",
              "  </div>\n",
              "  "
            ]
          },
          "metadata": {},
          "execution_count": 3
        }
      ],
      "source": [
        "df.tail()"
      ]
    },
    {
      "cell_type": "code",
      "execution_count": null,
      "metadata": {
        "colab": {
          "base_uri": "https://localhost:8080/"
        },
        "id": "kiXfvUJBGF6K",
        "outputId": "c56506d0-f987-490d-e665-232d4b651560"
      },
      "outputs": [
        {
          "output_type": "execute_result",
          "data": {
            "text/plain": [
              "(3379, 11)"
            ]
          },
          "metadata": {},
          "execution_count": 4
        }
      ],
      "source": [
        "df.shape\n"
      ]
    },
    {
      "cell_type": "code",
      "execution_count": null,
      "metadata": {
        "colab": {
          "base_uri": "https://localhost:8080/",
          "height": 206
        },
        "id": "LYSlE2_uG4qX",
        "outputId": "6d414129-6377-40dc-fbdd-8b18c364c780"
      },
      "outputs": [
        {
          "output_type": "execute_result",
          "data": {
            "text/plain": [
              "  beds bath        area        price\n",
              "0   3    4   2,200 sqft  50 Thousand\n",
              "1   3    4   1,400 sqft  30 Thousand\n",
              "2   3    4   1,950 sqft  30 Thousand\n",
              "3   3    3   2,000 sqft  35 Thousand\n",
              "4   3    4   1,650 sqft  25 Thousand"
            ],
            "text/html": [
              "\n",
              "  <div id=\"df-e07a0329-5802-4a8a-9461-7a9241c11c3c\">\n",
              "    <div class=\"colab-df-container\">\n",
              "      <div>\n",
              "<style scoped>\n",
              "    .dataframe tbody tr th:only-of-type {\n",
              "        vertical-align: middle;\n",
              "    }\n",
              "\n",
              "    .dataframe tbody tr th {\n",
              "        vertical-align: top;\n",
              "    }\n",
              "\n",
              "    .dataframe thead th {\n",
              "        text-align: right;\n",
              "    }\n",
              "</style>\n",
              "<table border=\"1\" class=\"dataframe\">\n",
              "  <thead>\n",
              "    <tr style=\"text-align: right;\">\n",
              "      <th></th>\n",
              "      <th>beds</th>\n",
              "      <th>bath</th>\n",
              "      <th>area</th>\n",
              "      <th>price</th>\n",
              "    </tr>\n",
              "  </thead>\n",
              "  <tbody>\n",
              "    <tr>\n",
              "      <th>0</th>\n",
              "      <td>3</td>\n",
              "      <td>4</td>\n",
              "      <td>2,200 sqft</td>\n",
              "      <td>50 Thousand</td>\n",
              "    </tr>\n",
              "    <tr>\n",
              "      <th>1</th>\n",
              "      <td>3</td>\n",
              "      <td>4</td>\n",
              "      <td>1,400 sqft</td>\n",
              "      <td>30 Thousand</td>\n",
              "    </tr>\n",
              "    <tr>\n",
              "      <th>2</th>\n",
              "      <td>3</td>\n",
              "      <td>4</td>\n",
              "      <td>1,950 sqft</td>\n",
              "      <td>30 Thousand</td>\n",
              "    </tr>\n",
              "    <tr>\n",
              "      <th>3</th>\n",
              "      <td>3</td>\n",
              "      <td>3</td>\n",
              "      <td>2,000 sqft</td>\n",
              "      <td>35 Thousand</td>\n",
              "    </tr>\n",
              "    <tr>\n",
              "      <th>4</th>\n",
              "      <td>3</td>\n",
              "      <td>4</td>\n",
              "      <td>1,650 sqft</td>\n",
              "      <td>25 Thousand</td>\n",
              "    </tr>\n",
              "  </tbody>\n",
              "</table>\n",
              "</div>\n",
              "      <button class=\"colab-df-convert\" onclick=\"convertToInteractive('df-e07a0329-5802-4a8a-9461-7a9241c11c3c')\"\n",
              "              title=\"Convert this dataframe to an interactive table.\"\n",
              "              style=\"display:none;\">\n",
              "        \n",
              "  <svg xmlns=\"http://www.w3.org/2000/svg\" height=\"24px\"viewBox=\"0 0 24 24\"\n",
              "       width=\"24px\">\n",
              "    <path d=\"M0 0h24v24H0V0z\" fill=\"none\"/>\n",
              "    <path d=\"M18.56 5.44l.94 2.06.94-2.06 2.06-.94-2.06-.94-.94-2.06-.94 2.06-2.06.94zm-11 1L8.5 8.5l.94-2.06 2.06-.94-2.06-.94L8.5 2.5l-.94 2.06-2.06.94zm10 10l.94 2.06.94-2.06 2.06-.94-2.06-.94-.94-2.06-.94 2.06-2.06.94z\"/><path d=\"M17.41 7.96l-1.37-1.37c-.4-.4-.92-.59-1.43-.59-.52 0-1.04.2-1.43.59L10.3 9.45l-7.72 7.72c-.78.78-.78 2.05 0 2.83L4 21.41c.39.39.9.59 1.41.59.51 0 1.02-.2 1.41-.59l7.78-7.78 2.81-2.81c.8-.78.8-2.07 0-2.86zM5.41 20L4 18.59l7.72-7.72 1.47 1.35L5.41 20z\"/>\n",
              "  </svg>\n",
              "      </button>\n",
              "      \n",
              "  <style>\n",
              "    .colab-df-container {\n",
              "      display:flex;\n",
              "      flex-wrap:wrap;\n",
              "      gap: 12px;\n",
              "    }\n",
              "\n",
              "    .colab-df-convert {\n",
              "      background-color: #E8F0FE;\n",
              "      border: none;\n",
              "      border-radius: 50%;\n",
              "      cursor: pointer;\n",
              "      display: none;\n",
              "      fill: #1967D2;\n",
              "      height: 32px;\n",
              "      padding: 0 0 0 0;\n",
              "      width: 32px;\n",
              "    }\n",
              "\n",
              "    .colab-df-convert:hover {\n",
              "      background-color: #E2EBFA;\n",
              "      box-shadow: 0px 1px 2px rgba(60, 64, 67, 0.3), 0px 1px 3px 1px rgba(60, 64, 67, 0.15);\n",
              "      fill: #174EA6;\n",
              "    }\n",
              "\n",
              "    [theme=dark] .colab-df-convert {\n",
              "      background-color: #3B4455;\n",
              "      fill: #D2E3FC;\n",
              "    }\n",
              "\n",
              "    [theme=dark] .colab-df-convert:hover {\n",
              "      background-color: #434B5C;\n",
              "      box-shadow: 0px 1px 3px 1px rgba(0, 0, 0, 0.15);\n",
              "      filter: drop-shadow(0px 1px 2px rgba(0, 0, 0, 0.3));\n",
              "      fill: #FFFFFF;\n",
              "    }\n",
              "  </style>\n",
              "\n",
              "      <script>\n",
              "        const buttonEl =\n",
              "          document.querySelector('#df-e07a0329-5802-4a8a-9461-7a9241c11c3c button.colab-df-convert');\n",
              "        buttonEl.style.display =\n",
              "          google.colab.kernel.accessAllowed ? 'block' : 'none';\n",
              "\n",
              "        async function convertToInteractive(key) {\n",
              "          const element = document.querySelector('#df-e07a0329-5802-4a8a-9461-7a9241c11c3c');\n",
              "          const dataTable =\n",
              "            await google.colab.kernel.invokeFunction('convertToInteractive',\n",
              "                                                     [key], {});\n",
              "          if (!dataTable) return;\n",
              "\n",
              "          const docLinkHtml = 'Like what you see? Visit the ' +\n",
              "            '<a target=\"_blank\" href=https://colab.research.google.com/notebooks/data_table.ipynb>data table notebook</a>'\n",
              "            + ' to learn more about interactive tables.';\n",
              "          element.innerHTML = '';\n",
              "          dataTable['output_type'] = 'display_data';\n",
              "          await google.colab.output.renderOutput(dataTable, element);\n",
              "          const docLink = document.createElement('div');\n",
              "          docLink.innerHTML = docLinkHtml;\n",
              "          element.appendChild(docLink);\n",
              "        }\n",
              "      </script>\n",
              "    </div>\n",
              "  </div>\n",
              "  "
            ]
          },
          "metadata": {},
          "execution_count": 5
        }
      ],
      "source": [
        "\n",
        "df1= df.drop(['title','adress','type','purpose','flooPlan','url','lastUpdated'],axis='columns')\n",
        "df1.head()"
      ]
    },
    {
      "cell_type": "code",
      "execution_count": null,
      "metadata": {
        "colab": {
          "base_uri": "https://localhost:8080/"
        },
        "id": "tO_Xcv1IIFB1",
        "outputId": "401a5612-052e-43ce-ce02-e381091ab9a9"
      },
      "outputs": [
        {
          "output_type": "execute_result",
          "data": {
            "text/plain": [
              "array(['2,200 sqft', '1,400 sqft', '1,950 sqft', '2,000 sqft',\n",
              "       '1,650 sqft', '3,400 sqft', '1,600 sqft', '1,250 sqft',\n",
              "       '2,150 sqft', '1,580 sqft', '3,200 sqft', '3,000 sqft',\n",
              "       '1,800 sqft', '1,750 sqft', '1,310 sqft', '1,700 sqft',\n",
              "       '2,750 sqft', '2,500 sqft', '550 sqft', '1,050 sqft', '1,350 sqft',\n",
              "       '3,590 sqft', '400 sqft', '2,400 sqft', '500 sqft', '2,300 sqft',\n",
              "       '4,350 sqft', '1,200 sqft', '800 sqft', '2,146 sqft', '1,315 sqft',\n",
              "       '1,500 sqft', '700 sqft', '600 sqft', '960 sqft', '4,200 sqft',\n",
              "       '2,250 sqft', '1,517 sqft', '6,300 sqft', '1,407 sqft',\n",
              "       '1,850 sqft', '1,150 sqft', '900 sqft', '1,975 sqft', '1,300 sqft',\n",
              "       '1,450 sqft', '950 sqft', '1,100 sqft', '2,600 sqft', '750 sqft',\n",
              "       '2,115 sqft', '3,600 sqft', '3,150 sqft', '2,100 sqft',\n",
              "       '1,319 sqft', '1,676 sqft', '1,825 sqft', '2,977 sqft', '350 sqft',\n",
              "       '1,550 sqft', '450 sqft', '1,190 sqft', '2,230 sqft', '2,280 sqft',\n",
              "       '2,197 sqft', '1,393 sqft', '1,260 sqft', '650 sqft', '1,075 sqft',\n",
              "       '9,000 sqft', '1,365 sqft', '1,165 sqft', '1,240 sqft',\n",
              "       '1,630 sqft', '1,806 sqft', '1,360 sqft', '2,170 sqft',\n",
              "       '1,370 sqft', '2,560 sqft', '1,615 sqft', '3,350 sqft',\n",
              "       '1,375 sqft', '3,500 sqft', '4,000 sqft', '1,807 sqft',\n",
              "       '1,288 sqft', '1,472 sqft', '2,595 sqft', '1,000 sqft',\n",
              "       '2,153 sqft', '1,910 sqft', '2,960 sqft', '720 sqft', '4,400 sqft',\n",
              "       '1,280 sqft', '2,350 sqft', '1,880 sqft', '3,800 sqft',\n",
              "       '1,935 sqft', '3,187 sqft', '1,520 sqft', '920 sqft', '1,911 sqft',\n",
              "       '1,532 sqft', '1,395 sqft', '2,450 sqft', '1,330 sqft',\n",
              "       '2,145 sqft', '8,000 sqft', '4,500 sqft', '1,560 sqft',\n",
              "       '1,599 sqft', '1,793 sqft', '3,300 sqft', '2,550 sqft',\n",
              "       '1,665 sqft', '16,100 sqft', '1,960 sqft', '1,495 sqft',\n",
              "       '2,210 sqft', '2,700 sqft', '2,800 sqft', '2,780 sqft',\n",
              "       '2,080 sqft', '850 sqft', '1,780 sqft', '725 sqft', '1,570 sqft',\n",
              "       '420 sqft', '1,980 sqft', '3,120 sqft', '910 sqft', '300 sqft',\n",
              "       '994 sqft', '2,373 sqft', '1,265 sqft', '1,865 sqft', '2,225 sqft',\n",
              "       '1,685 sqft', '1,171 sqft', '5,400 sqft', '1,722 sqft',\n",
              "       '4,465 sqft', '1,420 sqft', '1,680 sqft', '2,642 sqft',\n",
              "       '21,000 sqft', '1,876 sqft', '1,340 sqft', '1,233 sqft',\n",
              "       '1,160 sqft', '3,100 sqft', '2,630 sqft', '6,000 sqft', '730 sqft',\n",
              "       '1,660 sqft', '1,452 sqft', '1,275 sqft', '1,654 sqft',\n",
              "       '1,460 sqft', '1,041 sqft', '2,260 sqft', '1,230 sqft',\n",
              "       '1,114 sqft', '2,092 sqft', '2,015 sqft', '2,022 sqft',\n",
              "       '2,318 sqft', '1,175 sqft', '1,864 sqft', '1,035 sqft',\n",
              "       '1,620 sqft', '1,921 sqft', '2,650 sqft', '3,680 sqft',\n",
              "       '1,860 sqft', '2,435 sqft', '14,000 sqft', '5,000 sqft',\n",
              "       '1,180 sqft', '1,270 sqft', '3,850 sqft', '1,430 sqft',\n",
              "       '1,254 sqft', '1,510 sqft', '2,900 sqft', '1,705 sqft',\n",
              "       '1,426 sqft', '2,465 sqft', '1,425 sqft', '1,485 sqft',\n",
              "       '2,530 sqft', '2,165 sqft', '4,700 sqft', '1,129 sqft', '820 sqft',\n",
              "       '1,558 sqft', '6,500 sqft', '1,060 sqft', '930 sqft', '3,302 sqft',\n",
              "       '7,000 sqft', '1,605 sqft', '2,142 sqft', '3,305 sqft',\n",
              "       '1,734 sqft', '2,950 sqft', '1,900 sqft', '1,020 sqft',\n",
              "       '1,512 sqft', '1,785 sqft', '5,200 sqft', '1,338 sqft',\n",
              "       '1,905 sqft', '1,205 sqft', '1,470 sqft', '1,442 sqft',\n",
              "       '2,760 sqft', '2,632 sqft', '1,873 sqft', '2,850 sqft',\n",
              "       '1,285 sqft', '3,765 sqft', '3,700 sqft', '892 sqft', '1,622 sqft',\n",
              "       '1,540 sqft', '11,200 sqft', '1,080 sqft', '1,985 sqft',\n",
              "       '1,465 sqft', '2,088 sqft', '1,312 sqft', '770 sqft', '1,130 sqft',\n",
              "       '1,429 sqft', '2,510 sqft', '1,112 sqft', '1,244 sqft',\n",
              "       '1,380 sqft', '2,040 sqft', '1,325 sqft', '4,100 sqft', '760 sqft',\n",
              "       '2,296 sqft', '1,710 sqft', '1,085 sqft', '1,045 sqft',\n",
              "       '1,070 sqft', '680 sqft', '1,513 sqft', '2,575 sqft', '780 sqft',\n",
              "       '742 sqft', '1,555 sqft', '1,185 sqft', '2,619 sqft', '1,480 sqft',\n",
              "       '768 sqft', '1,440 sqft', '1,140 sqft', '1,566 sqft', '2,090 sqft',\n",
              "       '1,255 sqft', '735 sqft', '1,170 sqft', '1,155 sqft', '1,575 sqft',\n",
              "       '1,302 sqft', '1,225 sqft', '1,328 sqft', '1,345 sqft',\n",
              "       '1,320 sqft', '1,210 sqft', '1,025 sqft', '1,120 sqft', '740 sqft',\n",
              "       '1,383 sqft', '744 sqft', '1,145 sqft', '1,113 sqft', '1,133 sqft',\n",
              "       '1,231 sqft', '1,577 sqft', '2,270 sqft', '1,012 sqft',\n",
              "       '1,156 sqft', '7,500 sqft', '1,386 sqft', '1,525 sqft',\n",
              "       '1,271 sqft', '2,508 sqft', '1,040 sqft', '1,530 sqft',\n",
              "       '1,110 sqft', '1,610 sqft', '2,585 sqft', '845 sqft', '1,505 sqft',\n",
              "       '1,154 sqft', '970 sqft', '626 sqft', '765 sqft', '855 sqft',\n",
              "       '1,810 sqft', '1,065 sqft', '1,125 sqft', '1,645 sqft', '840 sqft',\n",
              "       '775 sqft', '1,030 sqft', '1,015 sqft', '1,253 sqft', '1,286 sqft',\n",
              "       '1,431 sqft', '18,000 sqft', '1,215 sqft', '2,275 sqft',\n",
              "       '1,322 sqft', '1,297 sqft', '1,117 sqft', '1,221 sqft',\n",
              "       '1,220 sqft', '1,952 sqft', '1,172 sqft', '1,625 sqft',\n",
              "       '1,435 sqft', '1,775 sqft', '3,675 sqft', '965 sqft', '1,055 sqft',\n",
              "       '520 sqft', '1,758 sqft', '1,943 sqft', '1,311 sqft', '1,720 sqft',\n",
              "       '4,800 sqft', '1,335 sqft', '2,470 sqft', '1,770 sqft',\n",
              "       '3,554 sqft'], dtype=object)"
            ]
          },
          "metadata": {},
          "execution_count": 6
        }
      ],
      "source": [
        "df1['area'].unique()"
      ]
    },
    {
      "cell_type": "code",
      "execution_count": null,
      "metadata": {
        "colab": {
          "base_uri": "https://localhost:8080/"
        },
        "id": "LhMQ0h70JGm0",
        "outputId": "f0ef4e05-9e7d-49a7-85d1-eb01d8ff8633"
      },
      "outputs": [
        {
          "output_type": "execute_result",
          "data": {
            "text/plain": [
              "array(['50 Thousand', '30 Thousand', '35 Thousand', '25 Thousand',\n",
              "       '1.1 Lakh', '23 Thousand', '40 Thousand', '20 Thousand',\n",
              "       '2.5 Lakh', '1.2 Lakh', '21 Thousand', '60 Thousand',\n",
              "       '28 Thousand', '75 Thousand', '55 Thousand', '12 Thousand',\n",
              "       '2 Lakh', '10 Thousand', '18 Thousand', '1.5 Lakh', '85 Thousand',\n",
              "       '70 Thousand', '43 Thousand', '1 Lakh', '80 Thousand',\n",
              "       '45 Thousand', '26 Thousand', '16 Thousand', '14.5 Thousand',\n",
              "       '14 Thousand', '15 Thousand', '90 Thousand', '4 Lakh', '3.5 Lakh',\n",
              "       '27 Thousand', '22 Thousand', '15.5 Thousand', '95 Thousand',\n",
              "       '42 Thousand', '13 Thousand', '11.5 Thousand', '7.3 Thousand',\n",
              "       '1.7 Lakh', '36 Thousand', '32 Thousand', '17 Thousand',\n",
              "       '13.5 Thousand', '34 Thousand', '1.8 Lakh', '65 Thousand',\n",
              "       '1.65 Lakh', '19 Thousand', '18.6 Thousand', '1.3 Lakh',\n",
              "       '4.2 Lakh', '47 Thousand', '72 Thousand', '1.6 Lakh', '2.8 Lakh',\n",
              "       '1.4 Lakh', '9 Thousand', '1.25 Lakh', '3 Lakh', '37 Thousand',\n",
              "       '16.5 Thousand', '9.5 Thousand', '33 Thousand', '4.5 Lakh',\n",
              "       '63 Thousand', '10 Lakh', '11 Thousand', '19.05 Thousand',\n",
              "       '12.5 Thousand', '38 Thousand', '17.5 Thousand', '1.35 Lakh',\n",
              "       '1.9 Lakh', '24 Thousand', '35.5 Thousand', '6 Thousand',\n",
              "       '18.5 Thousand', '5 Lakh', '7 Lakh', '39 Thousand', '8 Thousand',\n",
              "       '5.5 Thousand', '71 Thousand', '31 Thousand', '12.8 Thousand',\n",
              "       '52 Thousand', '1.15 Lakh', '2.2 Lakh', '46 Thousand', '2.9 Lakh',\n",
              "       '58 Thousand', '2.15 Lakh', '88 Thousand', '11.3 Thousand',\n",
              "       '57 Thousand', '2.3 Lakh', '1.85 Lakh', '2.6 Lakh', '3.2 Lakh',\n",
              "       '3.3 Lakh', '6 Lakh', '10.5 Thousand', '29.5 Thousand',\n",
              "       '8.5 Thousand', '17.24 Thousand', '3.4 Lakh', '29 Thousand',\n",
              "       '3.6 Lakh', '20.2 Thousand', '20.5 Thousand', '44 Thousand',\n",
              "       '13.2 Thousand', '25.5 Thousand', '26.5 Thousand', '10.2 Thousand',\n",
              "       '11.01 Thousand', '6.5 Thousand', '28.5 Thousand', '21.5 Thousand',\n",
              "       '10.7 Thousand', nan], dtype=object)"
            ]
          },
          "metadata": {},
          "execution_count": 7
        }
      ],
      "source": [
        "df1['price'].unique()"
      ]
    },
    {
      "cell_type": "code",
      "source": [
        "data_type = df['price'].dtype\n",
        "print(data_type)"
      ],
      "metadata": {
        "colab": {
          "base_uri": "https://localhost:8080/"
        },
        "id": "3vRi40IiI6tv",
        "outputId": "90620e6e-226c-4e12-ae80-abae7951470f"
      },
      "execution_count": null,
      "outputs": [
        {
          "output_type": "stream",
          "name": "stdout",
          "text": [
            "object\n"
          ]
        }
      ]
    },
    {
      "cell_type": "code",
      "execution_count": null,
      "metadata": {
        "colab": {
          "base_uri": "https://localhost:8080/"
        },
        "id": "e6wmjxPRN9-3",
        "outputId": "2874eb2b-6045-47bc-9c54-62431463e510"
      },
      "outputs": [
        {
          "output_type": "stream",
          "name": "stdout",
          "text": [
            "233.0\n"
          ]
        }
      ],
      "source": [
        "lakh_count = df1['price'].str.count('Lakh').sum()\n",
        "print(lakh_count)"
      ]
    },
    {
      "cell_type": "code",
      "execution_count": null,
      "metadata": {
        "id": "3YpYi8dXC1yt"
      },
      "outputs": [],
      "source": [
        "def unit_convert(x):\n",
        "    if isinstance(x, str): #checking it is a string or not\n",
        "        if 'Lakh' in x:\n",
        "            return float(x.split()[0]) * 1000\n",
        "    return x\n"
      ]
    },
    {
      "cell_type": "code",
      "execution_count": null,
      "metadata": {
        "id": "1qdSdniPETAa"
      },
      "outputs": [],
      "source": [
        "df1['price'] = df1['price'].apply(unit_convert)"
      ]
    },
    {
      "cell_type": "code",
      "execution_count": null,
      "metadata": {
        "colab": {
          "base_uri": "https://localhost:8080/"
        },
        "id": "KHAtUQUcM4hy",
        "outputId": "116bdba7-9424-42b9-f70a-5a37f13bf703"
      },
      "outputs": [
        {
          "output_type": "execute_result",
          "data": {
            "text/plain": [
              "array(['50 Thousand', '30 Thousand', '35 Thousand', '25 Thousand', 1100.0,\n",
              "       '23 Thousand', '40 Thousand', '20 Thousand', 2500.0, 1200.0,\n",
              "       '21 Thousand', '60 Thousand', '28 Thousand', '75 Thousand',\n",
              "       '55 Thousand', '12 Thousand', 2000.0, '10 Thousand', '18 Thousand',\n",
              "       1500.0, '85 Thousand', '70 Thousand', '43 Thousand', 1000.0,\n",
              "       '80 Thousand', '45 Thousand', '26 Thousand', '16 Thousand',\n",
              "       '14.5 Thousand', '14 Thousand', '15 Thousand', '90 Thousand',\n",
              "       4000.0, 3500.0, '27 Thousand', '22 Thousand', '15.5 Thousand',\n",
              "       '95 Thousand', '42 Thousand', '13 Thousand', '11.5 Thousand',\n",
              "       '7.3 Thousand', 1700.0, '36 Thousand', '32 Thousand',\n",
              "       '17 Thousand', '13.5 Thousand', '34 Thousand', 1800.0,\n",
              "       '65 Thousand', 1650.0, '19 Thousand', '18.6 Thousand', 1300.0,\n",
              "       4200.0, '47 Thousand', '72 Thousand', 1600.0, 2800.0, 1400.0,\n",
              "       '9 Thousand', 1250.0, 3000.0, '37 Thousand', '16.5 Thousand',\n",
              "       '9.5 Thousand', '33 Thousand', 4500.0, '63 Thousand', 10000.0,\n",
              "       '11 Thousand', '19.05 Thousand', '12.5 Thousand', '38 Thousand',\n",
              "       '17.5 Thousand', 1350.0, 1900.0, '24 Thousand', '35.5 Thousand',\n",
              "       '6 Thousand', '18.5 Thousand', 5000.0, 7000.0, '39 Thousand',\n",
              "       '8 Thousand', '5.5 Thousand', '71 Thousand', '31 Thousand',\n",
              "       '12.8 Thousand', '52 Thousand', 1150.0, 2200.0, '46 Thousand',\n",
              "       2900.0, '58 Thousand', 2150.0, '88 Thousand', '11.3 Thousand',\n",
              "       '57 Thousand', 2300.0, 1850.0, 2600.0, 3200.0, 3300.0, 6000.0,\n",
              "       '10.5 Thousand', '29.5 Thousand', '8.5 Thousand', '17.24 Thousand',\n",
              "       3400.0, '29 Thousand', 3600.0, '20.2 Thousand', '20.5 Thousand',\n",
              "       '44 Thousand', '13.2 Thousand', '25.5 Thousand', '26.5 Thousand',\n",
              "       '10.2 Thousand', '11.01 Thousand', '6.5 Thousand', '28.5 Thousand',\n",
              "       '21.5 Thousand', '10.7 Thousand', nan], dtype=object)"
            ]
          },
          "metadata": {},
          "execution_count": 12
        }
      ],
      "source": [
        "df1['price'].unique()"
      ]
    },
    {
      "cell_type": "code",
      "execution_count": null,
      "metadata": {
        "colab": {
          "base_uri": "https://localhost:8080/"
        },
        "id": "gz2D5B4HSgTU",
        "outputId": "8fb7d81b-b170-4078-ebd0-01b90d38c565"
      },
      "outputs": [
        {
          "output_type": "stream",
          "name": "stdout",
          "text": [
            "0.0\n"
          ]
        }
      ],
      "source": [
        "lakh_count = df1['price'].str.count('Lakh').sum()\n",
        "print(lakh_count)"
      ]
    },
    {
      "cell_type": "code",
      "execution_count": null,
      "metadata": {
        "colab": {
          "base_uri": "https://localhost:8080/",
          "height": 676
        },
        "id": "jFXBzi2OU5V8",
        "outputId": "1488f2f9-4cfd-4222-eeb9-037c49c525f9"
      },
      "outputs": [
        {
          "output_type": "execute_result",
          "data": {
            "text/plain": [
              "   beds bath        area        price\n",
              "0    3    4   2,200 sqft  50 Thousand\n",
              "1    3    4   1,400 sqft  30 Thousand\n",
              "2    3    4   1,950 sqft  30 Thousand\n",
              "3    3    3   2,000 sqft  35 Thousand\n",
              "4    3    4   1,650 sqft  25 Thousand\n",
              "5    5    5   3,400 sqft       1100.0\n",
              "6    3    3   1,600 sqft  35 Thousand\n",
              "7    3    3   1,250 sqft  23 Thousand\n",
              "8    3    4   2,150 sqft  40 Thousand\n",
              "9    3    3   1,250 sqft  23 Thousand\n",
              "10   3    3   1,250 sqft  23 Thousand\n",
              "11   3    3   1,580 sqft  20 Thousand\n",
              "12   4    4   3,200 sqft       2500.0\n",
              "13   3    3   3,000 sqft       1200.0\n",
              "14   3    3   1,250 sqft  21 Thousand\n",
              "15   3    4   1,800 sqft  60 Thousand\n",
              "16   3    3   1,250 sqft  21 Thousand\n",
              "17   3    3   2,000 sqft  40 Thousand\n",
              "18   3    4   1,750 sqft  30 Thousand\n",
              "19   3    3   1,250 sqft  23 Thousand"
            ],
            "text/html": [
              "\n",
              "  <div id=\"df-9bd53d20-f92f-4d2c-8007-7a3066b5ae5f\">\n",
              "    <div class=\"colab-df-container\">\n",
              "      <div>\n",
              "<style scoped>\n",
              "    .dataframe tbody tr th:only-of-type {\n",
              "        vertical-align: middle;\n",
              "    }\n",
              "\n",
              "    .dataframe tbody tr th {\n",
              "        vertical-align: top;\n",
              "    }\n",
              "\n",
              "    .dataframe thead th {\n",
              "        text-align: right;\n",
              "    }\n",
              "</style>\n",
              "<table border=\"1\" class=\"dataframe\">\n",
              "  <thead>\n",
              "    <tr style=\"text-align: right;\">\n",
              "      <th></th>\n",
              "      <th>beds</th>\n",
              "      <th>bath</th>\n",
              "      <th>area</th>\n",
              "      <th>price</th>\n",
              "    </tr>\n",
              "  </thead>\n",
              "  <tbody>\n",
              "    <tr>\n",
              "      <th>0</th>\n",
              "      <td>3</td>\n",
              "      <td>4</td>\n",
              "      <td>2,200 sqft</td>\n",
              "      <td>50 Thousand</td>\n",
              "    </tr>\n",
              "    <tr>\n",
              "      <th>1</th>\n",
              "      <td>3</td>\n",
              "      <td>4</td>\n",
              "      <td>1,400 sqft</td>\n",
              "      <td>30 Thousand</td>\n",
              "    </tr>\n",
              "    <tr>\n",
              "      <th>2</th>\n",
              "      <td>3</td>\n",
              "      <td>4</td>\n",
              "      <td>1,950 sqft</td>\n",
              "      <td>30 Thousand</td>\n",
              "    </tr>\n",
              "    <tr>\n",
              "      <th>3</th>\n",
              "      <td>3</td>\n",
              "      <td>3</td>\n",
              "      <td>2,000 sqft</td>\n",
              "      <td>35 Thousand</td>\n",
              "    </tr>\n",
              "    <tr>\n",
              "      <th>4</th>\n",
              "      <td>3</td>\n",
              "      <td>4</td>\n",
              "      <td>1,650 sqft</td>\n",
              "      <td>25 Thousand</td>\n",
              "    </tr>\n",
              "    <tr>\n",
              "      <th>5</th>\n",
              "      <td>5</td>\n",
              "      <td>5</td>\n",
              "      <td>3,400 sqft</td>\n",
              "      <td>1100.0</td>\n",
              "    </tr>\n",
              "    <tr>\n",
              "      <th>6</th>\n",
              "      <td>3</td>\n",
              "      <td>3</td>\n",
              "      <td>1,600 sqft</td>\n",
              "      <td>35 Thousand</td>\n",
              "    </tr>\n",
              "    <tr>\n",
              "      <th>7</th>\n",
              "      <td>3</td>\n",
              "      <td>3</td>\n",
              "      <td>1,250 sqft</td>\n",
              "      <td>23 Thousand</td>\n",
              "    </tr>\n",
              "    <tr>\n",
              "      <th>8</th>\n",
              "      <td>3</td>\n",
              "      <td>4</td>\n",
              "      <td>2,150 sqft</td>\n",
              "      <td>40 Thousand</td>\n",
              "    </tr>\n",
              "    <tr>\n",
              "      <th>9</th>\n",
              "      <td>3</td>\n",
              "      <td>3</td>\n",
              "      <td>1,250 sqft</td>\n",
              "      <td>23 Thousand</td>\n",
              "    </tr>\n",
              "    <tr>\n",
              "      <th>10</th>\n",
              "      <td>3</td>\n",
              "      <td>3</td>\n",
              "      <td>1,250 sqft</td>\n",
              "      <td>23 Thousand</td>\n",
              "    </tr>\n",
              "    <tr>\n",
              "      <th>11</th>\n",
              "      <td>3</td>\n",
              "      <td>3</td>\n",
              "      <td>1,580 sqft</td>\n",
              "      <td>20 Thousand</td>\n",
              "    </tr>\n",
              "    <tr>\n",
              "      <th>12</th>\n",
              "      <td>4</td>\n",
              "      <td>4</td>\n",
              "      <td>3,200 sqft</td>\n",
              "      <td>2500.0</td>\n",
              "    </tr>\n",
              "    <tr>\n",
              "      <th>13</th>\n",
              "      <td>3</td>\n",
              "      <td>3</td>\n",
              "      <td>3,000 sqft</td>\n",
              "      <td>1200.0</td>\n",
              "    </tr>\n",
              "    <tr>\n",
              "      <th>14</th>\n",
              "      <td>3</td>\n",
              "      <td>3</td>\n",
              "      <td>1,250 sqft</td>\n",
              "      <td>21 Thousand</td>\n",
              "    </tr>\n",
              "    <tr>\n",
              "      <th>15</th>\n",
              "      <td>3</td>\n",
              "      <td>4</td>\n",
              "      <td>1,800 sqft</td>\n",
              "      <td>60 Thousand</td>\n",
              "    </tr>\n",
              "    <tr>\n",
              "      <th>16</th>\n",
              "      <td>3</td>\n",
              "      <td>3</td>\n",
              "      <td>1,250 sqft</td>\n",
              "      <td>21 Thousand</td>\n",
              "    </tr>\n",
              "    <tr>\n",
              "      <th>17</th>\n",
              "      <td>3</td>\n",
              "      <td>3</td>\n",
              "      <td>2,000 sqft</td>\n",
              "      <td>40 Thousand</td>\n",
              "    </tr>\n",
              "    <tr>\n",
              "      <th>18</th>\n",
              "      <td>3</td>\n",
              "      <td>4</td>\n",
              "      <td>1,750 sqft</td>\n",
              "      <td>30 Thousand</td>\n",
              "    </tr>\n",
              "    <tr>\n",
              "      <th>19</th>\n",
              "      <td>3</td>\n",
              "      <td>3</td>\n",
              "      <td>1,250 sqft</td>\n",
              "      <td>23 Thousand</td>\n",
              "    </tr>\n",
              "  </tbody>\n",
              "</table>\n",
              "</div>\n",
              "      <button class=\"colab-df-convert\" onclick=\"convertToInteractive('df-9bd53d20-f92f-4d2c-8007-7a3066b5ae5f')\"\n",
              "              title=\"Convert this dataframe to an interactive table.\"\n",
              "              style=\"display:none;\">\n",
              "        \n",
              "  <svg xmlns=\"http://www.w3.org/2000/svg\" height=\"24px\"viewBox=\"0 0 24 24\"\n",
              "       width=\"24px\">\n",
              "    <path d=\"M0 0h24v24H0V0z\" fill=\"none\"/>\n",
              "    <path d=\"M18.56 5.44l.94 2.06.94-2.06 2.06-.94-2.06-.94-.94-2.06-.94 2.06-2.06.94zm-11 1L8.5 8.5l.94-2.06 2.06-.94-2.06-.94L8.5 2.5l-.94 2.06-2.06.94zm10 10l.94 2.06.94-2.06 2.06-.94-2.06-.94-.94-2.06-.94 2.06-2.06.94z\"/><path d=\"M17.41 7.96l-1.37-1.37c-.4-.4-.92-.59-1.43-.59-.52 0-1.04.2-1.43.59L10.3 9.45l-7.72 7.72c-.78.78-.78 2.05 0 2.83L4 21.41c.39.39.9.59 1.41.59.51 0 1.02-.2 1.41-.59l7.78-7.78 2.81-2.81c.8-.78.8-2.07 0-2.86zM5.41 20L4 18.59l7.72-7.72 1.47 1.35L5.41 20z\"/>\n",
              "  </svg>\n",
              "      </button>\n",
              "      \n",
              "  <style>\n",
              "    .colab-df-container {\n",
              "      display:flex;\n",
              "      flex-wrap:wrap;\n",
              "      gap: 12px;\n",
              "    }\n",
              "\n",
              "    .colab-df-convert {\n",
              "      background-color: #E8F0FE;\n",
              "      border: none;\n",
              "      border-radius: 50%;\n",
              "      cursor: pointer;\n",
              "      display: none;\n",
              "      fill: #1967D2;\n",
              "      height: 32px;\n",
              "      padding: 0 0 0 0;\n",
              "      width: 32px;\n",
              "    }\n",
              "\n",
              "    .colab-df-convert:hover {\n",
              "      background-color: #E2EBFA;\n",
              "      box-shadow: 0px 1px 2px rgba(60, 64, 67, 0.3), 0px 1px 3px 1px rgba(60, 64, 67, 0.15);\n",
              "      fill: #174EA6;\n",
              "    }\n",
              "\n",
              "    [theme=dark] .colab-df-convert {\n",
              "      background-color: #3B4455;\n",
              "      fill: #D2E3FC;\n",
              "    }\n",
              "\n",
              "    [theme=dark] .colab-df-convert:hover {\n",
              "      background-color: #434B5C;\n",
              "      box-shadow: 0px 1px 3px 1px rgba(0, 0, 0, 0.15);\n",
              "      filter: drop-shadow(0px 1px 2px rgba(0, 0, 0, 0.3));\n",
              "      fill: #FFFFFF;\n",
              "    }\n",
              "  </style>\n",
              "\n",
              "      <script>\n",
              "        const buttonEl =\n",
              "          document.querySelector('#df-9bd53d20-f92f-4d2c-8007-7a3066b5ae5f button.colab-df-convert');\n",
              "        buttonEl.style.display =\n",
              "          google.colab.kernel.accessAllowed ? 'block' : 'none';\n",
              "\n",
              "        async function convertToInteractive(key) {\n",
              "          const element = document.querySelector('#df-9bd53d20-f92f-4d2c-8007-7a3066b5ae5f');\n",
              "          const dataTable =\n",
              "            await google.colab.kernel.invokeFunction('convertToInteractive',\n",
              "                                                     [key], {});\n",
              "          if (!dataTable) return;\n",
              "\n",
              "          const docLinkHtml = 'Like what you see? Visit the ' +\n",
              "            '<a target=\"_blank\" href=https://colab.research.google.com/notebooks/data_table.ipynb>data table notebook</a>'\n",
              "            + ' to learn more about interactive tables.';\n",
              "          element.innerHTML = '';\n",
              "          dataTable['output_type'] = 'display_data';\n",
              "          await google.colab.output.renderOutput(dataTable, element);\n",
              "          const docLink = document.createElement('div');\n",
              "          docLink.innerHTML = docLinkHtml;\n",
              "          element.appendChild(docLink);\n",
              "        }\n",
              "      </script>\n",
              "    </div>\n",
              "  </div>\n",
              "  "
            ]
          },
          "metadata": {},
          "execution_count": 14
        }
      ],
      "source": [
        "df1.head(20)"
      ]
    },
    {
      "cell_type": "code",
      "execution_count": null,
      "metadata": {
        "id": "JlXqK3mKIZ4_"
      },
      "outputs": [],
      "source": [
        "df1['prices'] = df1['price'].apply(lambda x: round(float(str(x).replace(',', '').split(' ')[0])) if isinstance(x, str) else round(x) if not np.isnan(x) else x)\n",
        "df1['areas'] = df1['area'].apply(lambda x: round(float(str(x).replace(',', '').split(' ')[0])) if isinstance(x, str) else round(x) if not np.isnan(x) else x)\n",
        "\n"
      ]
    },
    {
      "cell_type": "code",
      "execution_count": null,
      "metadata": {
        "colab": {
          "base_uri": "https://localhost:8080/",
          "height": 237
        },
        "id": "2OgeOQ6iJKe4",
        "outputId": "9b78d7a5-5646-44bf-9e33-fd803ba4505c"
      },
      "outputs": [
        {
          "output_type": "execute_result",
          "data": {
            "text/plain": [
              "  beds bath        area        price  prices  areas\n",
              "0   3    4   2,200 sqft  50 Thousand    50.0   2200\n",
              "1   3    4   1,400 sqft  30 Thousand    30.0   1400\n",
              "2   3    4   1,950 sqft  30 Thousand    30.0   1950\n",
              "3   3    3   2,000 sqft  35 Thousand    35.0   2000\n",
              "4   3    4   1,650 sqft  25 Thousand    25.0   1650\n",
              "5   5    5   3,400 sqft       1100.0  1100.0   3400"
            ],
            "text/html": [
              "\n",
              "  <div id=\"df-2fc397b9-c59b-4009-9ead-39c1039b9ad6\">\n",
              "    <div class=\"colab-df-container\">\n",
              "      <div>\n",
              "<style scoped>\n",
              "    .dataframe tbody tr th:only-of-type {\n",
              "        vertical-align: middle;\n",
              "    }\n",
              "\n",
              "    .dataframe tbody tr th {\n",
              "        vertical-align: top;\n",
              "    }\n",
              "\n",
              "    .dataframe thead th {\n",
              "        text-align: right;\n",
              "    }\n",
              "</style>\n",
              "<table border=\"1\" class=\"dataframe\">\n",
              "  <thead>\n",
              "    <tr style=\"text-align: right;\">\n",
              "      <th></th>\n",
              "      <th>beds</th>\n",
              "      <th>bath</th>\n",
              "      <th>area</th>\n",
              "      <th>price</th>\n",
              "      <th>prices</th>\n",
              "      <th>areas</th>\n",
              "    </tr>\n",
              "  </thead>\n",
              "  <tbody>\n",
              "    <tr>\n",
              "      <th>0</th>\n",
              "      <td>3</td>\n",
              "      <td>4</td>\n",
              "      <td>2,200 sqft</td>\n",
              "      <td>50 Thousand</td>\n",
              "      <td>50.0</td>\n",
              "      <td>2200</td>\n",
              "    </tr>\n",
              "    <tr>\n",
              "      <th>1</th>\n",
              "      <td>3</td>\n",
              "      <td>4</td>\n",
              "      <td>1,400 sqft</td>\n",
              "      <td>30 Thousand</td>\n",
              "      <td>30.0</td>\n",
              "      <td>1400</td>\n",
              "    </tr>\n",
              "    <tr>\n",
              "      <th>2</th>\n",
              "      <td>3</td>\n",
              "      <td>4</td>\n",
              "      <td>1,950 sqft</td>\n",
              "      <td>30 Thousand</td>\n",
              "      <td>30.0</td>\n",
              "      <td>1950</td>\n",
              "    </tr>\n",
              "    <tr>\n",
              "      <th>3</th>\n",
              "      <td>3</td>\n",
              "      <td>3</td>\n",
              "      <td>2,000 sqft</td>\n",
              "      <td>35 Thousand</td>\n",
              "      <td>35.0</td>\n",
              "      <td>2000</td>\n",
              "    </tr>\n",
              "    <tr>\n",
              "      <th>4</th>\n",
              "      <td>3</td>\n",
              "      <td>4</td>\n",
              "      <td>1,650 sqft</td>\n",
              "      <td>25 Thousand</td>\n",
              "      <td>25.0</td>\n",
              "      <td>1650</td>\n",
              "    </tr>\n",
              "    <tr>\n",
              "      <th>5</th>\n",
              "      <td>5</td>\n",
              "      <td>5</td>\n",
              "      <td>3,400 sqft</td>\n",
              "      <td>1100.0</td>\n",
              "      <td>1100.0</td>\n",
              "      <td>3400</td>\n",
              "    </tr>\n",
              "  </tbody>\n",
              "</table>\n",
              "</div>\n",
              "      <button class=\"colab-df-convert\" onclick=\"convertToInteractive('df-2fc397b9-c59b-4009-9ead-39c1039b9ad6')\"\n",
              "              title=\"Convert this dataframe to an interactive table.\"\n",
              "              style=\"display:none;\">\n",
              "        \n",
              "  <svg xmlns=\"http://www.w3.org/2000/svg\" height=\"24px\"viewBox=\"0 0 24 24\"\n",
              "       width=\"24px\">\n",
              "    <path d=\"M0 0h24v24H0V0z\" fill=\"none\"/>\n",
              "    <path d=\"M18.56 5.44l.94 2.06.94-2.06 2.06-.94-2.06-.94-.94-2.06-.94 2.06-2.06.94zm-11 1L8.5 8.5l.94-2.06 2.06-.94-2.06-.94L8.5 2.5l-.94 2.06-2.06.94zm10 10l.94 2.06.94-2.06 2.06-.94-2.06-.94-.94-2.06-.94 2.06-2.06.94z\"/><path d=\"M17.41 7.96l-1.37-1.37c-.4-.4-.92-.59-1.43-.59-.52 0-1.04.2-1.43.59L10.3 9.45l-7.72 7.72c-.78.78-.78 2.05 0 2.83L4 21.41c.39.39.9.59 1.41.59.51 0 1.02-.2 1.41-.59l7.78-7.78 2.81-2.81c.8-.78.8-2.07 0-2.86zM5.41 20L4 18.59l7.72-7.72 1.47 1.35L5.41 20z\"/>\n",
              "  </svg>\n",
              "      </button>\n",
              "      \n",
              "  <style>\n",
              "    .colab-df-container {\n",
              "      display:flex;\n",
              "      flex-wrap:wrap;\n",
              "      gap: 12px;\n",
              "    }\n",
              "\n",
              "    .colab-df-convert {\n",
              "      background-color: #E8F0FE;\n",
              "      border: none;\n",
              "      border-radius: 50%;\n",
              "      cursor: pointer;\n",
              "      display: none;\n",
              "      fill: #1967D2;\n",
              "      height: 32px;\n",
              "      padding: 0 0 0 0;\n",
              "      width: 32px;\n",
              "    }\n",
              "\n",
              "    .colab-df-convert:hover {\n",
              "      background-color: #E2EBFA;\n",
              "      box-shadow: 0px 1px 2px rgba(60, 64, 67, 0.3), 0px 1px 3px 1px rgba(60, 64, 67, 0.15);\n",
              "      fill: #174EA6;\n",
              "    }\n",
              "\n",
              "    [theme=dark] .colab-df-convert {\n",
              "      background-color: #3B4455;\n",
              "      fill: #D2E3FC;\n",
              "    }\n",
              "\n",
              "    [theme=dark] .colab-df-convert:hover {\n",
              "      background-color: #434B5C;\n",
              "      box-shadow: 0px 1px 3px 1px rgba(0, 0, 0, 0.15);\n",
              "      filter: drop-shadow(0px 1px 2px rgba(0, 0, 0, 0.3));\n",
              "      fill: #FFFFFF;\n",
              "    }\n",
              "  </style>\n",
              "\n",
              "      <script>\n",
              "        const buttonEl =\n",
              "          document.querySelector('#df-2fc397b9-c59b-4009-9ead-39c1039b9ad6 button.colab-df-convert');\n",
              "        buttonEl.style.display =\n",
              "          google.colab.kernel.accessAllowed ? 'block' : 'none';\n",
              "\n",
              "        async function convertToInteractive(key) {\n",
              "          const element = document.querySelector('#df-2fc397b9-c59b-4009-9ead-39c1039b9ad6');\n",
              "          const dataTable =\n",
              "            await google.colab.kernel.invokeFunction('convertToInteractive',\n",
              "                                                     [key], {});\n",
              "          if (!dataTable) return;\n",
              "\n",
              "          const docLinkHtml = 'Like what you see? Visit the ' +\n",
              "            '<a target=\"_blank\" href=https://colab.research.google.com/notebooks/data_table.ipynb>data table notebook</a>'\n",
              "            + ' to learn more about interactive tables.';\n",
              "          element.innerHTML = '';\n",
              "          dataTable['output_type'] = 'display_data';\n",
              "          await google.colab.output.renderOutput(dataTable, element);\n",
              "          const docLink = document.createElement('div');\n",
              "          docLink.innerHTML = docLinkHtml;\n",
              "          element.appendChild(docLink);\n",
              "        }\n",
              "      </script>\n",
              "    </div>\n",
              "  </div>\n",
              "  "
            ]
          },
          "metadata": {},
          "execution_count": 16
        }
      ],
      "source": [
        "df1.head(6)"
      ]
    },
    {
      "cell_type": "code",
      "execution_count": null,
      "metadata": {
        "id": "4fHbfW9CJtGj"
      },
      "outputs": [],
      "source": [
        "df2= df1.drop(['area','price'],axis='columns')"
      ]
    },
    {
      "cell_type": "code",
      "execution_count": null,
      "metadata": {
        "colab": {
          "base_uri": "https://localhost:8080/",
          "height": 237
        },
        "id": "Q8rq1zA0KJL7",
        "outputId": "c093b35a-b2e2-4c24-e262-431abd284f1c"
      },
      "outputs": [
        {
          "output_type": "execute_result",
          "data": {
            "text/plain": [
              "  beds bath  prices  areas\n",
              "0   3    4     50.0   2200\n",
              "1   3    4     30.0   1400\n",
              "2   3    4     30.0   1950\n",
              "3   3    3     35.0   2000\n",
              "4   3    4     25.0   1650\n",
              "5   5    5   1100.0   3400"
            ],
            "text/html": [
              "\n",
              "  <div id=\"df-7464ab96-31cb-45d5-b761-8d903ed347b5\">\n",
              "    <div class=\"colab-df-container\">\n",
              "      <div>\n",
              "<style scoped>\n",
              "    .dataframe tbody tr th:only-of-type {\n",
              "        vertical-align: middle;\n",
              "    }\n",
              "\n",
              "    .dataframe tbody tr th {\n",
              "        vertical-align: top;\n",
              "    }\n",
              "\n",
              "    .dataframe thead th {\n",
              "        text-align: right;\n",
              "    }\n",
              "</style>\n",
              "<table border=\"1\" class=\"dataframe\">\n",
              "  <thead>\n",
              "    <tr style=\"text-align: right;\">\n",
              "      <th></th>\n",
              "      <th>beds</th>\n",
              "      <th>bath</th>\n",
              "      <th>prices</th>\n",
              "      <th>areas</th>\n",
              "    </tr>\n",
              "  </thead>\n",
              "  <tbody>\n",
              "    <tr>\n",
              "      <th>0</th>\n",
              "      <td>3</td>\n",
              "      <td>4</td>\n",
              "      <td>50.0</td>\n",
              "      <td>2200</td>\n",
              "    </tr>\n",
              "    <tr>\n",
              "      <th>1</th>\n",
              "      <td>3</td>\n",
              "      <td>4</td>\n",
              "      <td>30.0</td>\n",
              "      <td>1400</td>\n",
              "    </tr>\n",
              "    <tr>\n",
              "      <th>2</th>\n",
              "      <td>3</td>\n",
              "      <td>4</td>\n",
              "      <td>30.0</td>\n",
              "      <td>1950</td>\n",
              "    </tr>\n",
              "    <tr>\n",
              "      <th>3</th>\n",
              "      <td>3</td>\n",
              "      <td>3</td>\n",
              "      <td>35.0</td>\n",
              "      <td>2000</td>\n",
              "    </tr>\n",
              "    <tr>\n",
              "      <th>4</th>\n",
              "      <td>3</td>\n",
              "      <td>4</td>\n",
              "      <td>25.0</td>\n",
              "      <td>1650</td>\n",
              "    </tr>\n",
              "    <tr>\n",
              "      <th>5</th>\n",
              "      <td>5</td>\n",
              "      <td>5</td>\n",
              "      <td>1100.0</td>\n",
              "      <td>3400</td>\n",
              "    </tr>\n",
              "  </tbody>\n",
              "</table>\n",
              "</div>\n",
              "      <button class=\"colab-df-convert\" onclick=\"convertToInteractive('df-7464ab96-31cb-45d5-b761-8d903ed347b5')\"\n",
              "              title=\"Convert this dataframe to an interactive table.\"\n",
              "              style=\"display:none;\">\n",
              "        \n",
              "  <svg xmlns=\"http://www.w3.org/2000/svg\" height=\"24px\"viewBox=\"0 0 24 24\"\n",
              "       width=\"24px\">\n",
              "    <path d=\"M0 0h24v24H0V0z\" fill=\"none\"/>\n",
              "    <path d=\"M18.56 5.44l.94 2.06.94-2.06 2.06-.94-2.06-.94-.94-2.06-.94 2.06-2.06.94zm-11 1L8.5 8.5l.94-2.06 2.06-.94-2.06-.94L8.5 2.5l-.94 2.06-2.06.94zm10 10l.94 2.06.94-2.06 2.06-.94-2.06-.94-.94-2.06-.94 2.06-2.06.94z\"/><path d=\"M17.41 7.96l-1.37-1.37c-.4-.4-.92-.59-1.43-.59-.52 0-1.04.2-1.43.59L10.3 9.45l-7.72 7.72c-.78.78-.78 2.05 0 2.83L4 21.41c.39.39.9.59 1.41.59.51 0 1.02-.2 1.41-.59l7.78-7.78 2.81-2.81c.8-.78.8-2.07 0-2.86zM5.41 20L4 18.59l7.72-7.72 1.47 1.35L5.41 20z\"/>\n",
              "  </svg>\n",
              "      </button>\n",
              "      \n",
              "  <style>\n",
              "    .colab-df-container {\n",
              "      display:flex;\n",
              "      flex-wrap:wrap;\n",
              "      gap: 12px;\n",
              "    }\n",
              "\n",
              "    .colab-df-convert {\n",
              "      background-color: #E8F0FE;\n",
              "      border: none;\n",
              "      border-radius: 50%;\n",
              "      cursor: pointer;\n",
              "      display: none;\n",
              "      fill: #1967D2;\n",
              "      height: 32px;\n",
              "      padding: 0 0 0 0;\n",
              "      width: 32px;\n",
              "    }\n",
              "\n",
              "    .colab-df-convert:hover {\n",
              "      background-color: #E2EBFA;\n",
              "      box-shadow: 0px 1px 2px rgba(60, 64, 67, 0.3), 0px 1px 3px 1px rgba(60, 64, 67, 0.15);\n",
              "      fill: #174EA6;\n",
              "    }\n",
              "\n",
              "    [theme=dark] .colab-df-convert {\n",
              "      background-color: #3B4455;\n",
              "      fill: #D2E3FC;\n",
              "    }\n",
              "\n",
              "    [theme=dark] .colab-df-convert:hover {\n",
              "      background-color: #434B5C;\n",
              "      box-shadow: 0px 1px 3px 1px rgba(0, 0, 0, 0.15);\n",
              "      filter: drop-shadow(0px 1px 2px rgba(0, 0, 0, 0.3));\n",
              "      fill: #FFFFFF;\n",
              "    }\n",
              "  </style>\n",
              "\n",
              "      <script>\n",
              "        const buttonEl =\n",
              "          document.querySelector('#df-7464ab96-31cb-45d5-b761-8d903ed347b5 button.colab-df-convert');\n",
              "        buttonEl.style.display =\n",
              "          google.colab.kernel.accessAllowed ? 'block' : 'none';\n",
              "\n",
              "        async function convertToInteractive(key) {\n",
              "          const element = document.querySelector('#df-7464ab96-31cb-45d5-b761-8d903ed347b5');\n",
              "          const dataTable =\n",
              "            await google.colab.kernel.invokeFunction('convertToInteractive',\n",
              "                                                     [key], {});\n",
              "          if (!dataTable) return;\n",
              "\n",
              "          const docLinkHtml = 'Like what you see? Visit the ' +\n",
              "            '<a target=\"_blank\" href=https://colab.research.google.com/notebooks/data_table.ipynb>data table notebook</a>'\n",
              "            + ' to learn more about interactive tables.';\n",
              "          element.innerHTML = '';\n",
              "          dataTable['output_type'] = 'display_data';\n",
              "          await google.colab.output.renderOutput(dataTable, element);\n",
              "          const docLink = document.createElement('div');\n",
              "          docLink.innerHTML = docLinkHtml;\n",
              "          element.appendChild(docLink);\n",
              "        }\n",
              "      </script>\n",
              "    </div>\n",
              "  </div>\n",
              "  "
            ]
          },
          "metadata": {},
          "execution_count": 18
        }
      ],
      "source": [
        "df2.head(6)"
      ]
    },
    {
      "cell_type": "code",
      "execution_count": null,
      "metadata": {
        "colab": {
          "base_uri": "https://localhost:8080/"
        },
        "id": "xwqucMqVKTS_",
        "outputId": "4fb3f95f-b579-40ea-c935-50e469361115"
      },
      "outputs": [
        {
          "output_type": "execute_result",
          "data": {
            "text/plain": [
              "array([5.00e+01, 3.00e+01, 3.50e+01, 2.50e+01, 1.10e+03, 2.30e+01,\n",
              "       4.00e+01, 2.00e+01, 2.50e+03, 1.20e+03, 2.10e+01, 6.00e+01,\n",
              "       2.80e+01, 7.50e+01, 5.50e+01, 1.20e+01, 2.00e+03, 1.00e+01,\n",
              "       1.80e+01, 1.50e+03, 8.50e+01, 7.00e+01, 4.30e+01, 1.00e+03,\n",
              "       8.00e+01, 4.50e+01, 2.60e+01, 1.60e+01, 1.40e+01, 1.50e+01,\n",
              "       9.00e+01, 4.00e+03, 3.50e+03, 2.70e+01, 2.20e+01, 9.50e+01,\n",
              "       4.20e+01, 1.30e+01, 7.00e+00, 1.70e+03, 3.60e+01, 3.20e+01,\n",
              "       1.70e+01, 3.40e+01, 1.80e+03, 6.50e+01, 1.65e+03, 1.90e+01,\n",
              "       1.30e+03, 4.20e+03, 4.70e+01, 7.20e+01, 1.60e+03, 2.80e+03,\n",
              "       1.40e+03, 9.00e+00, 1.25e+03, 3.00e+03, 3.70e+01, 3.30e+01,\n",
              "       4.50e+03, 6.30e+01, 1.00e+04, 1.10e+01, 3.80e+01, 1.35e+03,\n",
              "       1.90e+03, 2.40e+01, 6.00e+00, 5.00e+03, 7.00e+03, 3.90e+01,\n",
              "       8.00e+00, 7.10e+01, 3.10e+01, 5.20e+01, 1.15e+03, 2.20e+03,\n",
              "       4.60e+01, 2.90e+03, 5.80e+01, 2.15e+03, 8.80e+01, 5.70e+01,\n",
              "       2.30e+03, 1.85e+03, 2.60e+03, 3.20e+03, 3.30e+03, 6.00e+03,\n",
              "       3.40e+03, 2.90e+01, 3.60e+03, 4.40e+01,      nan])"
            ]
          },
          "metadata": {},
          "execution_count": 19
        }
      ],
      "source": [
        "df2['prices'].unique()"
      ]
    },
    {
      "cell_type": "code",
      "execution_count": null,
      "metadata": {
        "colab": {
          "base_uri": "https://localhost:8080/"
        },
        "id": "mVk8WcdtXEv8",
        "outputId": "e42e9989-feb4-4267-e155-a5089f28953e"
      },
      "outputs": [
        {
          "output_type": "execute_result",
          "data": {
            "text/plain": [
              "(3379, 4)"
            ]
          },
          "metadata": {},
          "execution_count": 20
        }
      ],
      "source": [
        "df2.shape"
      ]
    },
    {
      "cell_type": "code",
      "execution_count": null,
      "metadata": {
        "colab": {
          "base_uri": "https://localhost:8080/"
        },
        "id": "aiLaGuIDIHSb",
        "outputId": "ed19e294-a382-492e-f8c6-d60135f70a87"
      },
      "outputs": [
        {
          "output_type": "execute_result",
          "data": {
            "text/plain": [
              "array(['3 ', '5 ', '4 ', '1 Bed', '2 ', '17 ', '6 ', '21 ', '7 ', '20 ',\n",
              "       '32 '], dtype=object)"
            ]
          },
          "metadata": {},
          "execution_count": 21
        }
      ],
      "source": [
        "df2['beds'].unique()"
      ]
    },
    {
      "cell_type": "code",
      "source": [
        "df2['bath'].unique()"
      ],
      "metadata": {
        "colab": {
          "base_uri": "https://localhost:8080/"
        },
        "id": "hg9PUlioRRss",
        "outputId": "7b84f7df-57d6-43a8-93e8-91f1da01206e"
      },
      "execution_count": null,
      "outputs": [
        {
          "output_type": "execute_result",
          "data": {
            "text/plain": [
              "array(['4 ', '3 ', '5 ', '2 ', '1 Bath', '6 ', '10 ', '8 ', '7 '],\n",
              "      dtype=object)"
            ]
          },
          "metadata": {},
          "execution_count": 22
        }
      ]
    },
    {
      "cell_type": "code",
      "execution_count": null,
      "metadata": {
        "id": "uM_DRQ5vgG9h"
      },
      "outputs": [],
      "source": [
        "import re\n",
        "df2['beds'] = df2['beds'].apply(lambda x: re.sub(r'(?i)\\s*bed\\s*', '', x))\n",
        "df2['bath'] = df2['bath'].apply(lambda x: re.sub(r'(?i)\\s*bath\\s*', '', x))\n",
        "\n"
      ]
    },
    {
      "cell_type": "code",
      "execution_count": null,
      "metadata": {
        "colab": {
          "base_uri": "https://localhost:8080/"
        },
        "id": "dTW6v5sNhY6Z",
        "outputId": "ca053735-561a-46ed-8901-b34c957b4b7b"
      },
      "outputs": [
        {
          "output_type": "execute_result",
          "data": {
            "text/plain": [
              "array(['3 ', '5 ', '4 ', '1', '2 ', '17 ', '6 ', '21 ', '7 ', '20 ',\n",
              "       '32 '], dtype=object)"
            ]
          },
          "metadata": {},
          "execution_count": 24
        }
      ],
      "source": [
        "df2['beds'].unique()\n"
      ]
    },
    {
      "cell_type": "code",
      "execution_count": null,
      "metadata": {
        "colab": {
          "base_uri": "https://localhost:8080/"
        },
        "id": "H9vR9dKuhbBU",
        "outputId": "4114959c-6733-4816-f6b9-35298db871bc"
      },
      "outputs": [
        {
          "output_type": "execute_result",
          "data": {
            "text/plain": [
              "array(['4 ', '3 ', '5 ', '2 ', '1', '6 ', '10 ', '8 ', '7 '], dtype=object)"
            ]
          },
          "metadata": {},
          "execution_count": 25
        }
      ],
      "source": [
        "df2['bath'].unique()"
      ]
    },
    {
      "cell_type": "code",
      "execution_count": null,
      "metadata": {
        "colab": {
          "base_uri": "https://localhost:8080/",
          "height": 206
        },
        "id": "PPthbVgGjhu2",
        "outputId": "4cf3a87d-8ca9-435c-d7d7-6c55848819d5"
      },
      "outputs": [
        {
          "output_type": "execute_result",
          "data": {
            "text/plain": [
              "  beds bath  prices  areas\n",
              "0   3    4     50.0   2200\n",
              "1   3    4     30.0   1400\n",
              "2   3    4     30.0   1950\n",
              "3   3    3     35.0   2000\n",
              "4   3    4     25.0   1650"
            ],
            "text/html": [
              "\n",
              "  <div id=\"df-327034eb-9fc3-40f5-a3d4-ba505bb8e182\">\n",
              "    <div class=\"colab-df-container\">\n",
              "      <div>\n",
              "<style scoped>\n",
              "    .dataframe tbody tr th:only-of-type {\n",
              "        vertical-align: middle;\n",
              "    }\n",
              "\n",
              "    .dataframe tbody tr th {\n",
              "        vertical-align: top;\n",
              "    }\n",
              "\n",
              "    .dataframe thead th {\n",
              "        text-align: right;\n",
              "    }\n",
              "</style>\n",
              "<table border=\"1\" class=\"dataframe\">\n",
              "  <thead>\n",
              "    <tr style=\"text-align: right;\">\n",
              "      <th></th>\n",
              "      <th>beds</th>\n",
              "      <th>bath</th>\n",
              "      <th>prices</th>\n",
              "      <th>areas</th>\n",
              "    </tr>\n",
              "  </thead>\n",
              "  <tbody>\n",
              "    <tr>\n",
              "      <th>0</th>\n",
              "      <td>3</td>\n",
              "      <td>4</td>\n",
              "      <td>50.0</td>\n",
              "      <td>2200</td>\n",
              "    </tr>\n",
              "    <tr>\n",
              "      <th>1</th>\n",
              "      <td>3</td>\n",
              "      <td>4</td>\n",
              "      <td>30.0</td>\n",
              "      <td>1400</td>\n",
              "    </tr>\n",
              "    <tr>\n",
              "      <th>2</th>\n",
              "      <td>3</td>\n",
              "      <td>4</td>\n",
              "      <td>30.0</td>\n",
              "      <td>1950</td>\n",
              "    </tr>\n",
              "    <tr>\n",
              "      <th>3</th>\n",
              "      <td>3</td>\n",
              "      <td>3</td>\n",
              "      <td>35.0</td>\n",
              "      <td>2000</td>\n",
              "    </tr>\n",
              "    <tr>\n",
              "      <th>4</th>\n",
              "      <td>3</td>\n",
              "      <td>4</td>\n",
              "      <td>25.0</td>\n",
              "      <td>1650</td>\n",
              "    </tr>\n",
              "  </tbody>\n",
              "</table>\n",
              "</div>\n",
              "      <button class=\"colab-df-convert\" onclick=\"convertToInteractive('df-327034eb-9fc3-40f5-a3d4-ba505bb8e182')\"\n",
              "              title=\"Convert this dataframe to an interactive table.\"\n",
              "              style=\"display:none;\">\n",
              "        \n",
              "  <svg xmlns=\"http://www.w3.org/2000/svg\" height=\"24px\"viewBox=\"0 0 24 24\"\n",
              "       width=\"24px\">\n",
              "    <path d=\"M0 0h24v24H0V0z\" fill=\"none\"/>\n",
              "    <path d=\"M18.56 5.44l.94 2.06.94-2.06 2.06-.94-2.06-.94-.94-2.06-.94 2.06-2.06.94zm-11 1L8.5 8.5l.94-2.06 2.06-.94-2.06-.94L8.5 2.5l-.94 2.06-2.06.94zm10 10l.94 2.06.94-2.06 2.06-.94-2.06-.94-.94-2.06-.94 2.06-2.06.94z\"/><path d=\"M17.41 7.96l-1.37-1.37c-.4-.4-.92-.59-1.43-.59-.52 0-1.04.2-1.43.59L10.3 9.45l-7.72 7.72c-.78.78-.78 2.05 0 2.83L4 21.41c.39.39.9.59 1.41.59.51 0 1.02-.2 1.41-.59l7.78-7.78 2.81-2.81c.8-.78.8-2.07 0-2.86zM5.41 20L4 18.59l7.72-7.72 1.47 1.35L5.41 20z\"/>\n",
              "  </svg>\n",
              "      </button>\n",
              "      \n",
              "  <style>\n",
              "    .colab-df-container {\n",
              "      display:flex;\n",
              "      flex-wrap:wrap;\n",
              "      gap: 12px;\n",
              "    }\n",
              "\n",
              "    .colab-df-convert {\n",
              "      background-color: #E8F0FE;\n",
              "      border: none;\n",
              "      border-radius: 50%;\n",
              "      cursor: pointer;\n",
              "      display: none;\n",
              "      fill: #1967D2;\n",
              "      height: 32px;\n",
              "      padding: 0 0 0 0;\n",
              "      width: 32px;\n",
              "    }\n",
              "\n",
              "    .colab-df-convert:hover {\n",
              "      background-color: #E2EBFA;\n",
              "      box-shadow: 0px 1px 2px rgba(60, 64, 67, 0.3), 0px 1px 3px 1px rgba(60, 64, 67, 0.15);\n",
              "      fill: #174EA6;\n",
              "    }\n",
              "\n",
              "    [theme=dark] .colab-df-convert {\n",
              "      background-color: #3B4455;\n",
              "      fill: #D2E3FC;\n",
              "    }\n",
              "\n",
              "    [theme=dark] .colab-df-convert:hover {\n",
              "      background-color: #434B5C;\n",
              "      box-shadow: 0px 1px 3px 1px rgba(0, 0, 0, 0.15);\n",
              "      filter: drop-shadow(0px 1px 2px rgba(0, 0, 0, 0.3));\n",
              "      fill: #FFFFFF;\n",
              "    }\n",
              "  </style>\n",
              "\n",
              "      <script>\n",
              "        const buttonEl =\n",
              "          document.querySelector('#df-327034eb-9fc3-40f5-a3d4-ba505bb8e182 button.colab-df-convert');\n",
              "        buttonEl.style.display =\n",
              "          google.colab.kernel.accessAllowed ? 'block' : 'none';\n",
              "\n",
              "        async function convertToInteractive(key) {\n",
              "          const element = document.querySelector('#df-327034eb-9fc3-40f5-a3d4-ba505bb8e182');\n",
              "          const dataTable =\n",
              "            await google.colab.kernel.invokeFunction('convertToInteractive',\n",
              "                                                     [key], {});\n",
              "          if (!dataTable) return;\n",
              "\n",
              "          const docLinkHtml = 'Like what you see? Visit the ' +\n",
              "            '<a target=\"_blank\" href=https://colab.research.google.com/notebooks/data_table.ipynb>data table notebook</a>'\n",
              "            + ' to learn more about interactive tables.';\n",
              "          element.innerHTML = '';\n",
              "          dataTable['output_type'] = 'display_data';\n",
              "          await google.colab.output.renderOutput(dataTable, element);\n",
              "          const docLink = document.createElement('div');\n",
              "          docLink.innerHTML = docLinkHtml;\n",
              "          element.appendChild(docLink);\n",
              "        }\n",
              "      </script>\n",
              "    </div>\n",
              "  </div>\n",
              "  "
            ]
          },
          "metadata": {},
          "execution_count": 26
        }
      ],
      "source": [
        "df2.head()"
      ]
    },
    {
      "cell_type": "code",
      "execution_count": null,
      "metadata": {
        "colab": {
          "base_uri": "https://localhost:8080/"
        },
        "id": "pKg7_HbboMja",
        "outputId": "4e80d04c-3263-489e-b42e-202814737c85"
      },
      "outputs": [
        {
          "output_type": "stream",
          "name": "stdout",
          "text": [
            "beds      False\n",
            "bath      False\n",
            "prices     True\n",
            "areas     False\n",
            "dtype: bool\n"
          ]
        }
      ],
      "source": [
        "nan_columns = df2[['beds', 'bath', 'prices', 'areas']].isna().any()\n",
        "\n",
        "# Print the columns with NaN values\n",
        "print(nan_columns)"
      ]
    },
    {
      "cell_type": "code",
      "execution_count": null,
      "metadata": {
        "id": "Tdwhth6eoeZB"
      },
      "outputs": [],
      "source": [
        "df2 = df2.dropna(subset=['beds', 'bath', 'prices', 'areas'])"
      ]
    },
    {
      "cell_type": "code",
      "execution_count": null,
      "metadata": {
        "id": "ug7jmAC9-T8Z"
      },
      "outputs": [],
      "source": [
        "df2 = df2.iloc[:, [0, 1, 3, 2]]"
      ]
    },
    {
      "cell_type": "code",
      "execution_count": null,
      "metadata": {
        "id": "grevt4b7mPVu"
      },
      "outputs": [],
      "source": [
        "df3=df2"
      ]
    },
    {
      "cell_type": "code",
      "execution_count": null,
      "metadata": {
        "colab": {
          "base_uri": "https://localhost:8080/",
          "height": 206
        },
        "id": "NaGoasxwms0p",
        "outputId": "c1b22523-58e0-4d0d-e982-5972bb34521f"
      },
      "outputs": [
        {
          "output_type": "execute_result",
          "data": {
            "text/plain": [
              "  beds bath  areas  prices\n",
              "0   3    4    2200    50.0\n",
              "1   3    4    1400    30.0\n",
              "2   3    4    1950    30.0\n",
              "3   3    3    2000    35.0\n",
              "4   3    4    1650    25.0"
            ],
            "text/html": [
              "\n",
              "  <div id=\"df-b2fd2d69-10cf-4668-b87c-6c9963955b65\">\n",
              "    <div class=\"colab-df-container\">\n",
              "      <div>\n",
              "<style scoped>\n",
              "    .dataframe tbody tr th:only-of-type {\n",
              "        vertical-align: middle;\n",
              "    }\n",
              "\n",
              "    .dataframe tbody tr th {\n",
              "        vertical-align: top;\n",
              "    }\n",
              "\n",
              "    .dataframe thead th {\n",
              "        text-align: right;\n",
              "    }\n",
              "</style>\n",
              "<table border=\"1\" class=\"dataframe\">\n",
              "  <thead>\n",
              "    <tr style=\"text-align: right;\">\n",
              "      <th></th>\n",
              "      <th>beds</th>\n",
              "      <th>bath</th>\n",
              "      <th>areas</th>\n",
              "      <th>prices</th>\n",
              "    </tr>\n",
              "  </thead>\n",
              "  <tbody>\n",
              "    <tr>\n",
              "      <th>0</th>\n",
              "      <td>3</td>\n",
              "      <td>4</td>\n",
              "      <td>2200</td>\n",
              "      <td>50.0</td>\n",
              "    </tr>\n",
              "    <tr>\n",
              "      <th>1</th>\n",
              "      <td>3</td>\n",
              "      <td>4</td>\n",
              "      <td>1400</td>\n",
              "      <td>30.0</td>\n",
              "    </tr>\n",
              "    <tr>\n",
              "      <th>2</th>\n",
              "      <td>3</td>\n",
              "      <td>4</td>\n",
              "      <td>1950</td>\n",
              "      <td>30.0</td>\n",
              "    </tr>\n",
              "    <tr>\n",
              "      <th>3</th>\n",
              "      <td>3</td>\n",
              "      <td>3</td>\n",
              "      <td>2000</td>\n",
              "      <td>35.0</td>\n",
              "    </tr>\n",
              "    <tr>\n",
              "      <th>4</th>\n",
              "      <td>3</td>\n",
              "      <td>4</td>\n",
              "      <td>1650</td>\n",
              "      <td>25.0</td>\n",
              "    </tr>\n",
              "  </tbody>\n",
              "</table>\n",
              "</div>\n",
              "      <button class=\"colab-df-convert\" onclick=\"convertToInteractive('df-b2fd2d69-10cf-4668-b87c-6c9963955b65')\"\n",
              "              title=\"Convert this dataframe to an interactive table.\"\n",
              "              style=\"display:none;\">\n",
              "        \n",
              "  <svg xmlns=\"http://www.w3.org/2000/svg\" height=\"24px\"viewBox=\"0 0 24 24\"\n",
              "       width=\"24px\">\n",
              "    <path d=\"M0 0h24v24H0V0z\" fill=\"none\"/>\n",
              "    <path d=\"M18.56 5.44l.94 2.06.94-2.06 2.06-.94-2.06-.94-.94-2.06-.94 2.06-2.06.94zm-11 1L8.5 8.5l.94-2.06 2.06-.94-2.06-.94L8.5 2.5l-.94 2.06-2.06.94zm10 10l.94 2.06.94-2.06 2.06-.94-2.06-.94-.94-2.06-.94 2.06-2.06.94z\"/><path d=\"M17.41 7.96l-1.37-1.37c-.4-.4-.92-.59-1.43-.59-.52 0-1.04.2-1.43.59L10.3 9.45l-7.72 7.72c-.78.78-.78 2.05 0 2.83L4 21.41c.39.39.9.59 1.41.59.51 0 1.02-.2 1.41-.59l7.78-7.78 2.81-2.81c.8-.78.8-2.07 0-2.86zM5.41 20L4 18.59l7.72-7.72 1.47 1.35L5.41 20z\"/>\n",
              "  </svg>\n",
              "      </button>\n",
              "      \n",
              "  <style>\n",
              "    .colab-df-container {\n",
              "      display:flex;\n",
              "      flex-wrap:wrap;\n",
              "      gap: 12px;\n",
              "    }\n",
              "\n",
              "    .colab-df-convert {\n",
              "      background-color: #E8F0FE;\n",
              "      border: none;\n",
              "      border-radius: 50%;\n",
              "      cursor: pointer;\n",
              "      display: none;\n",
              "      fill: #1967D2;\n",
              "      height: 32px;\n",
              "      padding: 0 0 0 0;\n",
              "      width: 32px;\n",
              "    }\n",
              "\n",
              "    .colab-df-convert:hover {\n",
              "      background-color: #E2EBFA;\n",
              "      box-shadow: 0px 1px 2px rgba(60, 64, 67, 0.3), 0px 1px 3px 1px rgba(60, 64, 67, 0.15);\n",
              "      fill: #174EA6;\n",
              "    }\n",
              "\n",
              "    [theme=dark] .colab-df-convert {\n",
              "      background-color: #3B4455;\n",
              "      fill: #D2E3FC;\n",
              "    }\n",
              "\n",
              "    [theme=dark] .colab-df-convert:hover {\n",
              "      background-color: #434B5C;\n",
              "      box-shadow: 0px 1px 3px 1px rgba(0, 0, 0, 0.15);\n",
              "      filter: drop-shadow(0px 1px 2px rgba(0, 0, 0, 0.3));\n",
              "      fill: #FFFFFF;\n",
              "    }\n",
              "  </style>\n",
              "\n",
              "      <script>\n",
              "        const buttonEl =\n",
              "          document.querySelector('#df-b2fd2d69-10cf-4668-b87c-6c9963955b65 button.colab-df-convert');\n",
              "        buttonEl.style.display =\n",
              "          google.colab.kernel.accessAllowed ? 'block' : 'none';\n",
              "\n",
              "        async function convertToInteractive(key) {\n",
              "          const element = document.querySelector('#df-b2fd2d69-10cf-4668-b87c-6c9963955b65');\n",
              "          const dataTable =\n",
              "            await google.colab.kernel.invokeFunction('convertToInteractive',\n",
              "                                                     [key], {});\n",
              "          if (!dataTable) return;\n",
              "\n",
              "          const docLinkHtml = 'Like what you see? Visit the ' +\n",
              "            '<a target=\"_blank\" href=https://colab.research.google.com/notebooks/data_table.ipynb>data table notebook</a>'\n",
              "            + ' to learn more about interactive tables.';\n",
              "          element.innerHTML = '';\n",
              "          dataTable['output_type'] = 'display_data';\n",
              "          await google.colab.output.renderOutput(dataTable, element);\n",
              "          const docLink = document.createElement('div');\n",
              "          docLink.innerHTML = docLinkHtml;\n",
              "          element.appendChild(docLink);\n",
              "        }\n",
              "      </script>\n",
              "    </div>\n",
              "  </div>\n",
              "  "
            ]
          },
          "metadata": {},
          "execution_count": 31
        }
      ],
      "source": [
        "df3.head()"
      ]
    },
    {
      "cell_type": "code",
      "execution_count": null,
      "metadata": {
        "colab": {
          "base_uri": "https://localhost:8080/"
        },
        "id": "Q9nq5DRUpfTG",
        "outputId": "d64450d0-12fc-49b8-e344-c16802cede35"
      },
      "outputs": [
        {
          "output_type": "execute_result",
          "data": {
            "text/plain": [
              "(3378, 4)"
            ]
          },
          "metadata": {},
          "execution_count": 32
        }
      ],
      "source": [
        "df3.shape"
      ]
    },
    {
      "cell_type": "code",
      "execution_count": null,
      "metadata": {
        "id": "AtzgXcn29idh"
      },
      "outputs": [],
      "source": [
        "from sklearn.preprocessing import MinMaxScaler\n",
        "\n",
        "x = df3[['beds', 'bath', 'areas']]\n",
        "y = df3[['prices']]\n",
        "\n",
        "scaler = MinMaxScaler()\n",
        "x_scaled = scaler.fit_transform(x)\n",
        "y_scaled=scaler.fit_transform(y)\n",
        "\n",
        "df_scaled = pd.DataFrame(x_scaled, columns=['beds', 'bath', 'area'])\n",
        "df_scaled['price'] = y_scaled"
      ]
    },
    {
      "cell_type": "code",
      "execution_count": null,
      "metadata": {
        "colab": {
          "base_uri": "https://localhost:8080/",
          "height": 206
        },
        "id": "d9OQMNEY9mN5",
        "outputId": "d82f8629-e72b-4bed-89c5-4f8634e95f8a"
      },
      "outputs": [
        {
          "output_type": "execute_result",
          "data": {
            "text/plain": [
              "       beds      bath      area     price\n",
              "0  0.064516  0.333333  0.091787  0.004403\n",
              "1  0.064516  0.333333  0.053140  0.002401\n",
              "2  0.064516  0.333333  0.079710  0.002401\n",
              "3  0.064516  0.222222  0.082126  0.002902\n",
              "4  0.064516  0.333333  0.065217  0.001901"
            ],
            "text/html": [
              "\n",
              "  <div id=\"df-72ac9b33-0f30-4b70-bad2-9666f006e5b4\">\n",
              "    <div class=\"colab-df-container\">\n",
              "      <div>\n",
              "<style scoped>\n",
              "    .dataframe tbody tr th:only-of-type {\n",
              "        vertical-align: middle;\n",
              "    }\n",
              "\n",
              "    .dataframe tbody tr th {\n",
              "        vertical-align: top;\n",
              "    }\n",
              "\n",
              "    .dataframe thead th {\n",
              "        text-align: right;\n",
              "    }\n",
              "</style>\n",
              "<table border=\"1\" class=\"dataframe\">\n",
              "  <thead>\n",
              "    <tr style=\"text-align: right;\">\n",
              "      <th></th>\n",
              "      <th>beds</th>\n",
              "      <th>bath</th>\n",
              "      <th>area</th>\n",
              "      <th>price</th>\n",
              "    </tr>\n",
              "  </thead>\n",
              "  <tbody>\n",
              "    <tr>\n",
              "      <th>0</th>\n",
              "      <td>0.064516</td>\n",
              "      <td>0.333333</td>\n",
              "      <td>0.091787</td>\n",
              "      <td>0.004403</td>\n",
              "    </tr>\n",
              "    <tr>\n",
              "      <th>1</th>\n",
              "      <td>0.064516</td>\n",
              "      <td>0.333333</td>\n",
              "      <td>0.053140</td>\n",
              "      <td>0.002401</td>\n",
              "    </tr>\n",
              "    <tr>\n",
              "      <th>2</th>\n",
              "      <td>0.064516</td>\n",
              "      <td>0.333333</td>\n",
              "      <td>0.079710</td>\n",
              "      <td>0.002401</td>\n",
              "    </tr>\n",
              "    <tr>\n",
              "      <th>3</th>\n",
              "      <td>0.064516</td>\n",
              "      <td>0.222222</td>\n",
              "      <td>0.082126</td>\n",
              "      <td>0.002902</td>\n",
              "    </tr>\n",
              "    <tr>\n",
              "      <th>4</th>\n",
              "      <td>0.064516</td>\n",
              "      <td>0.333333</td>\n",
              "      <td>0.065217</td>\n",
              "      <td>0.001901</td>\n",
              "    </tr>\n",
              "  </tbody>\n",
              "</table>\n",
              "</div>\n",
              "      <button class=\"colab-df-convert\" onclick=\"convertToInteractive('df-72ac9b33-0f30-4b70-bad2-9666f006e5b4')\"\n",
              "              title=\"Convert this dataframe to an interactive table.\"\n",
              "              style=\"display:none;\">\n",
              "        \n",
              "  <svg xmlns=\"http://www.w3.org/2000/svg\" height=\"24px\"viewBox=\"0 0 24 24\"\n",
              "       width=\"24px\">\n",
              "    <path d=\"M0 0h24v24H0V0z\" fill=\"none\"/>\n",
              "    <path d=\"M18.56 5.44l.94 2.06.94-2.06 2.06-.94-2.06-.94-.94-2.06-.94 2.06-2.06.94zm-11 1L8.5 8.5l.94-2.06 2.06-.94-2.06-.94L8.5 2.5l-.94 2.06-2.06.94zm10 10l.94 2.06.94-2.06 2.06-.94-2.06-.94-.94-2.06-.94 2.06-2.06.94z\"/><path d=\"M17.41 7.96l-1.37-1.37c-.4-.4-.92-.59-1.43-.59-.52 0-1.04.2-1.43.59L10.3 9.45l-7.72 7.72c-.78.78-.78 2.05 0 2.83L4 21.41c.39.39.9.59 1.41.59.51 0 1.02-.2 1.41-.59l7.78-7.78 2.81-2.81c.8-.78.8-2.07 0-2.86zM5.41 20L4 18.59l7.72-7.72 1.47 1.35L5.41 20z\"/>\n",
              "  </svg>\n",
              "      </button>\n",
              "      \n",
              "  <style>\n",
              "    .colab-df-container {\n",
              "      display:flex;\n",
              "      flex-wrap:wrap;\n",
              "      gap: 12px;\n",
              "    }\n",
              "\n",
              "    .colab-df-convert {\n",
              "      background-color: #E8F0FE;\n",
              "      border: none;\n",
              "      border-radius: 50%;\n",
              "      cursor: pointer;\n",
              "      display: none;\n",
              "      fill: #1967D2;\n",
              "      height: 32px;\n",
              "      padding: 0 0 0 0;\n",
              "      width: 32px;\n",
              "    }\n",
              "\n",
              "    .colab-df-convert:hover {\n",
              "      background-color: #E2EBFA;\n",
              "      box-shadow: 0px 1px 2px rgba(60, 64, 67, 0.3), 0px 1px 3px 1px rgba(60, 64, 67, 0.15);\n",
              "      fill: #174EA6;\n",
              "    }\n",
              "\n",
              "    [theme=dark] .colab-df-convert {\n",
              "      background-color: #3B4455;\n",
              "      fill: #D2E3FC;\n",
              "    }\n",
              "\n",
              "    [theme=dark] .colab-df-convert:hover {\n",
              "      background-color: #434B5C;\n",
              "      box-shadow: 0px 1px 3px 1px rgba(0, 0, 0, 0.15);\n",
              "      filter: drop-shadow(0px 1px 2px rgba(0, 0, 0, 0.3));\n",
              "      fill: #FFFFFF;\n",
              "    }\n",
              "  </style>\n",
              "\n",
              "      <script>\n",
              "        const buttonEl =\n",
              "          document.querySelector('#df-72ac9b33-0f30-4b70-bad2-9666f006e5b4 button.colab-df-convert');\n",
              "        buttonEl.style.display =\n",
              "          google.colab.kernel.accessAllowed ? 'block' : 'none';\n",
              "\n",
              "        async function convertToInteractive(key) {\n",
              "          const element = document.querySelector('#df-72ac9b33-0f30-4b70-bad2-9666f006e5b4');\n",
              "          const dataTable =\n",
              "            await google.colab.kernel.invokeFunction('convertToInteractive',\n",
              "                                                     [key], {});\n",
              "          if (!dataTable) return;\n",
              "\n",
              "          const docLinkHtml = 'Like what you see? Visit the ' +\n",
              "            '<a target=\"_blank\" href=https://colab.research.google.com/notebooks/data_table.ipynb>data table notebook</a>'\n",
              "            + ' to learn more about interactive tables.';\n",
              "          element.innerHTML = '';\n",
              "          dataTable['output_type'] = 'display_data';\n",
              "          await google.colab.output.renderOutput(dataTable, element);\n",
              "          const docLink = document.createElement('div');\n",
              "          docLink.innerHTML = docLinkHtml;\n",
              "          element.appendChild(docLink);\n",
              "        }\n",
              "      </script>\n",
              "    </div>\n",
              "  </div>\n",
              "  "
            ]
          },
          "metadata": {},
          "execution_count": 34
        }
      ],
      "source": [
        "df_scaled.head()"
      ]
    },
    {
      "cell_type": "code",
      "execution_count": null,
      "metadata": {
        "colab": {
          "base_uri": "https://localhost:8080/"
        },
        "id": "jZIUamOsCYLG",
        "outputId": "1274d0f1-4251-48df-bc36-4d45b12bc05e"
      },
      "outputs": [
        {
          "output_type": "execute_result",
          "data": {
            "text/plain": [
              "beds     False\n",
              "bath     False\n",
              "area     False\n",
              "price    False\n",
              "dtype: bool"
            ]
          },
          "metadata": {},
          "execution_count": 35
        }
      ],
      "source": [
        "df_scaled[['beds', 'bath', 'area','price']].isna().any()"
      ]
    },
    {
      "cell_type": "code",
      "execution_count": null,
      "metadata": {
        "id": "Fj_EQAcSCiKo"
      },
      "outputs": [],
      "source": [
        "df_scaled = df_scaled.dropna(subset=['beds', 'bath', 'area','price']) #removing rows with missing value(NaN)"
      ]
    },
    {
      "cell_type": "code",
      "execution_count": null,
      "metadata": {
        "colab": {
          "base_uri": "https://localhost:8080/"
        },
        "id": "FHQ5It2WCone",
        "outputId": "498f4a35-e8b7-4698-fcf4-038b6f43504e"
      },
      "outputs": [
        {
          "output_type": "execute_result",
          "data": {
            "text/plain": [
              "beds     False\n",
              "bath     False\n",
              "area     False\n",
              "price    False\n",
              "dtype: bool"
            ]
          },
          "metadata": {},
          "execution_count": 37
        }
      ],
      "source": [
        "df_scaled[['beds', 'bath', 'area','price']].isna().any()"
      ]
    },
    {
      "cell_type": "code",
      "execution_count": null,
      "metadata": {
        "colab": {
          "base_uri": "https://localhost:8080/",
          "height": 206
        },
        "id": "KyJMoo6NC3Bm",
        "outputId": "a8cb74ba-fff0-442d-bd82-9f8b45d182ea"
      },
      "outputs": [
        {
          "output_type": "execute_result",
          "data": {
            "text/plain": [
              "       beds      bath      area     price\n",
              "0  0.064516  0.333333  0.091787  0.004403\n",
              "1  0.064516  0.333333  0.053140  0.002401\n",
              "2  0.064516  0.333333  0.079710  0.002401\n",
              "3  0.064516  0.222222  0.082126  0.002902\n",
              "4  0.064516  0.333333  0.065217  0.001901"
            ],
            "text/html": [
              "\n",
              "  <div id=\"df-f5e274ed-5a50-4485-bcf8-09a0d99d4817\">\n",
              "    <div class=\"colab-df-container\">\n",
              "      <div>\n",
              "<style scoped>\n",
              "    .dataframe tbody tr th:only-of-type {\n",
              "        vertical-align: middle;\n",
              "    }\n",
              "\n",
              "    .dataframe tbody tr th {\n",
              "        vertical-align: top;\n",
              "    }\n",
              "\n",
              "    .dataframe thead th {\n",
              "        text-align: right;\n",
              "    }\n",
              "</style>\n",
              "<table border=\"1\" class=\"dataframe\">\n",
              "  <thead>\n",
              "    <tr style=\"text-align: right;\">\n",
              "      <th></th>\n",
              "      <th>beds</th>\n",
              "      <th>bath</th>\n",
              "      <th>area</th>\n",
              "      <th>price</th>\n",
              "    </tr>\n",
              "  </thead>\n",
              "  <tbody>\n",
              "    <tr>\n",
              "      <th>0</th>\n",
              "      <td>0.064516</td>\n",
              "      <td>0.333333</td>\n",
              "      <td>0.091787</td>\n",
              "      <td>0.004403</td>\n",
              "    </tr>\n",
              "    <tr>\n",
              "      <th>1</th>\n",
              "      <td>0.064516</td>\n",
              "      <td>0.333333</td>\n",
              "      <td>0.053140</td>\n",
              "      <td>0.002401</td>\n",
              "    </tr>\n",
              "    <tr>\n",
              "      <th>2</th>\n",
              "      <td>0.064516</td>\n",
              "      <td>0.333333</td>\n",
              "      <td>0.079710</td>\n",
              "      <td>0.002401</td>\n",
              "    </tr>\n",
              "    <tr>\n",
              "      <th>3</th>\n",
              "      <td>0.064516</td>\n",
              "      <td>0.222222</td>\n",
              "      <td>0.082126</td>\n",
              "      <td>0.002902</td>\n",
              "    </tr>\n",
              "    <tr>\n",
              "      <th>4</th>\n",
              "      <td>0.064516</td>\n",
              "      <td>0.333333</td>\n",
              "      <td>0.065217</td>\n",
              "      <td>0.001901</td>\n",
              "    </tr>\n",
              "  </tbody>\n",
              "</table>\n",
              "</div>\n",
              "      <button class=\"colab-df-convert\" onclick=\"convertToInteractive('df-f5e274ed-5a50-4485-bcf8-09a0d99d4817')\"\n",
              "              title=\"Convert this dataframe to an interactive table.\"\n",
              "              style=\"display:none;\">\n",
              "        \n",
              "  <svg xmlns=\"http://www.w3.org/2000/svg\" height=\"24px\"viewBox=\"0 0 24 24\"\n",
              "       width=\"24px\">\n",
              "    <path d=\"M0 0h24v24H0V0z\" fill=\"none\"/>\n",
              "    <path d=\"M18.56 5.44l.94 2.06.94-2.06 2.06-.94-2.06-.94-.94-2.06-.94 2.06-2.06.94zm-11 1L8.5 8.5l.94-2.06 2.06-.94-2.06-.94L8.5 2.5l-.94 2.06-2.06.94zm10 10l.94 2.06.94-2.06 2.06-.94-2.06-.94-.94-2.06-.94 2.06-2.06.94z\"/><path d=\"M17.41 7.96l-1.37-1.37c-.4-.4-.92-.59-1.43-.59-.52 0-1.04.2-1.43.59L10.3 9.45l-7.72 7.72c-.78.78-.78 2.05 0 2.83L4 21.41c.39.39.9.59 1.41.59.51 0 1.02-.2 1.41-.59l7.78-7.78 2.81-2.81c.8-.78.8-2.07 0-2.86zM5.41 20L4 18.59l7.72-7.72 1.47 1.35L5.41 20z\"/>\n",
              "  </svg>\n",
              "      </button>\n",
              "      \n",
              "  <style>\n",
              "    .colab-df-container {\n",
              "      display:flex;\n",
              "      flex-wrap:wrap;\n",
              "      gap: 12px;\n",
              "    }\n",
              "\n",
              "    .colab-df-convert {\n",
              "      background-color: #E8F0FE;\n",
              "      border: none;\n",
              "      border-radius: 50%;\n",
              "      cursor: pointer;\n",
              "      display: none;\n",
              "      fill: #1967D2;\n",
              "      height: 32px;\n",
              "      padding: 0 0 0 0;\n",
              "      width: 32px;\n",
              "    }\n",
              "\n",
              "    .colab-df-convert:hover {\n",
              "      background-color: #E2EBFA;\n",
              "      box-shadow: 0px 1px 2px rgba(60, 64, 67, 0.3), 0px 1px 3px 1px rgba(60, 64, 67, 0.15);\n",
              "      fill: #174EA6;\n",
              "    }\n",
              "\n",
              "    [theme=dark] .colab-df-convert {\n",
              "      background-color: #3B4455;\n",
              "      fill: #D2E3FC;\n",
              "    }\n",
              "\n",
              "    [theme=dark] .colab-df-convert:hover {\n",
              "      background-color: #434B5C;\n",
              "      box-shadow: 0px 1px 3px 1px rgba(0, 0, 0, 0.15);\n",
              "      filter: drop-shadow(0px 1px 2px rgba(0, 0, 0, 0.3));\n",
              "      fill: #FFFFFF;\n",
              "    }\n",
              "  </style>\n",
              "\n",
              "      <script>\n",
              "        const buttonEl =\n",
              "          document.querySelector('#df-f5e274ed-5a50-4485-bcf8-09a0d99d4817 button.colab-df-convert');\n",
              "        buttonEl.style.display =\n",
              "          google.colab.kernel.accessAllowed ? 'block' : 'none';\n",
              "\n",
              "        async function convertToInteractive(key) {\n",
              "          const element = document.querySelector('#df-f5e274ed-5a50-4485-bcf8-09a0d99d4817');\n",
              "          const dataTable =\n",
              "            await google.colab.kernel.invokeFunction('convertToInteractive',\n",
              "                                                     [key], {});\n",
              "          if (!dataTable) return;\n",
              "\n",
              "          const docLinkHtml = 'Like what you see? Visit the ' +\n",
              "            '<a target=\"_blank\" href=https://colab.research.google.com/notebooks/data_table.ipynb>data table notebook</a>'\n",
              "            + ' to learn more about interactive tables.';\n",
              "          element.innerHTML = '';\n",
              "          dataTable['output_type'] = 'display_data';\n",
              "          await google.colab.output.renderOutput(dataTable, element);\n",
              "          const docLink = document.createElement('div');\n",
              "          docLink.innerHTML = docLinkHtml;\n",
              "          element.appendChild(docLink);\n",
              "        }\n",
              "      </script>\n",
              "    </div>\n",
              "  </div>\n",
              "  "
            ]
          },
          "metadata": {},
          "execution_count": 38
        }
      ],
      "source": [
        "df_scaled.head()"
      ]
    },
    {
      "cell_type": "code",
      "execution_count": null,
      "metadata": {
        "id": "DKA66jr3DIu_"
      },
      "outputs": [],
      "source": [
        "X = df_scaled[['beds', 'bath', 'area']].values\n",
        "y = df_scaled['price'].values"
      ]
    },
    {
      "cell_type": "code",
      "execution_count": null,
      "metadata": {
        "colab": {
          "base_uri": "https://localhost:8080/"
        },
        "id": "S_JoF6FkDLTJ",
        "outputId": "4be461d1-a2d9-4d26-ae1b-5c8f1fa00392"
      },
      "outputs": [
        {
          "output_type": "execute_result",
          "data": {
            "text/plain": [
              "dtype('float64')"
            ]
          },
          "metadata": {},
          "execution_count": 40
        }
      ],
      "source": [
        "X.dtype"
      ]
    },
    {
      "cell_type": "code",
      "execution_count": null,
      "metadata": {
        "id": "eI5cXdZNDTpW"
      },
      "outputs": [],
      "source": [
        "from sklearn.model_selection import train_test_split\n",
        "X_train, X_test, y_train, y_test = train_test_split(X, y, test_size=0.2,random_state=42)\n",
        "X_train,X_val,y_train,y_val = train_test_split(X_train,y_train,test_size=0.2,random_state=42)"
      ]
    },
    {
      "cell_type": "code",
      "source": [
        "from sklearn.linear_model import LinearRegression\n",
        "model = LinearRegression()"
      ],
      "metadata": {
        "id": "Y-vyo-BXVL1J"
      },
      "execution_count": null,
      "outputs": []
    },
    {
      "cell_type": "code",
      "source": [
        "model.fit(X_train,y_train)"
      ],
      "metadata": {
        "colab": {
          "base_uri": "https://localhost:8080/",
          "height": 74
        },
        "id": "SImiPCQ-VPFh",
        "outputId": "f78a97b9-2f9a-482b-9ccd-df35e4c556d0"
      },
      "execution_count": null,
      "outputs": [
        {
          "output_type": "execute_result",
          "data": {
            "text/plain": [
              "LinearRegression()"
            ],
            "text/html": [
              "<style>#sk-container-id-1 {color: black;background-color: white;}#sk-container-id-1 pre{padding: 0;}#sk-container-id-1 div.sk-toggleable {background-color: white;}#sk-container-id-1 label.sk-toggleable__label {cursor: pointer;display: block;width: 100%;margin-bottom: 0;padding: 0.3em;box-sizing: border-box;text-align: center;}#sk-container-id-1 label.sk-toggleable__label-arrow:before {content: \"▸\";float: left;margin-right: 0.25em;color: #696969;}#sk-container-id-1 label.sk-toggleable__label-arrow:hover:before {color: black;}#sk-container-id-1 div.sk-estimator:hover label.sk-toggleable__label-arrow:before {color: black;}#sk-container-id-1 div.sk-toggleable__content {max-height: 0;max-width: 0;overflow: hidden;text-align: left;background-color: #f0f8ff;}#sk-container-id-1 div.sk-toggleable__content pre {margin: 0.2em;color: black;border-radius: 0.25em;background-color: #f0f8ff;}#sk-container-id-1 input.sk-toggleable__control:checked~div.sk-toggleable__content {max-height: 200px;max-width: 100%;overflow: auto;}#sk-container-id-1 input.sk-toggleable__control:checked~label.sk-toggleable__label-arrow:before {content: \"▾\";}#sk-container-id-1 div.sk-estimator input.sk-toggleable__control:checked~label.sk-toggleable__label {background-color: #d4ebff;}#sk-container-id-1 div.sk-label input.sk-toggleable__control:checked~label.sk-toggleable__label {background-color: #d4ebff;}#sk-container-id-1 input.sk-hidden--visually {border: 0;clip: rect(1px 1px 1px 1px);clip: rect(1px, 1px, 1px, 1px);height: 1px;margin: -1px;overflow: hidden;padding: 0;position: absolute;width: 1px;}#sk-container-id-1 div.sk-estimator {font-family: monospace;background-color: #f0f8ff;border: 1px dotted black;border-radius: 0.25em;box-sizing: border-box;margin-bottom: 0.5em;}#sk-container-id-1 div.sk-estimator:hover {background-color: #d4ebff;}#sk-container-id-1 div.sk-parallel-item::after {content: \"\";width: 100%;border-bottom: 1px solid gray;flex-grow: 1;}#sk-container-id-1 div.sk-label:hover label.sk-toggleable__label {background-color: #d4ebff;}#sk-container-id-1 div.sk-serial::before {content: \"\";position: absolute;border-left: 1px solid gray;box-sizing: border-box;top: 0;bottom: 0;left: 50%;z-index: 0;}#sk-container-id-1 div.sk-serial {display: flex;flex-direction: column;align-items: center;background-color: white;padding-right: 0.2em;padding-left: 0.2em;position: relative;}#sk-container-id-1 div.sk-item {position: relative;z-index: 1;}#sk-container-id-1 div.sk-parallel {display: flex;align-items: stretch;justify-content: center;background-color: white;position: relative;}#sk-container-id-1 div.sk-item::before, #sk-container-id-1 div.sk-parallel-item::before {content: \"\";position: absolute;border-left: 1px solid gray;box-sizing: border-box;top: 0;bottom: 0;left: 50%;z-index: -1;}#sk-container-id-1 div.sk-parallel-item {display: flex;flex-direction: column;z-index: 1;position: relative;background-color: white;}#sk-container-id-1 div.sk-parallel-item:first-child::after {align-self: flex-end;width: 50%;}#sk-container-id-1 div.sk-parallel-item:last-child::after {align-self: flex-start;width: 50%;}#sk-container-id-1 div.sk-parallel-item:only-child::after {width: 0;}#sk-container-id-1 div.sk-dashed-wrapped {border: 1px dashed gray;margin: 0 0.4em 0.5em 0.4em;box-sizing: border-box;padding-bottom: 0.4em;background-color: white;}#sk-container-id-1 div.sk-label label {font-family: monospace;font-weight: bold;display: inline-block;line-height: 1.2em;}#sk-container-id-1 div.sk-label-container {text-align: center;}#sk-container-id-1 div.sk-container {/* jupyter's `normalize.less` sets `[hidden] { display: none; }` but bootstrap.min.css set `[hidden] { display: none !important; }` so we also need the `!important` here to be able to override the default hidden behavior on the sphinx rendered scikit-learn.org. See: https://github.com/scikit-learn/scikit-learn/issues/21755 */display: inline-block !important;position: relative;}#sk-container-id-1 div.sk-text-repr-fallback {display: none;}</style><div id=\"sk-container-id-1\" class=\"sk-top-container\"><div class=\"sk-text-repr-fallback\"><pre>LinearRegression()</pre><b>In a Jupyter environment, please rerun this cell to show the HTML representation or trust the notebook. <br />On GitHub, the HTML representation is unable to render, please try loading this page with nbviewer.org.</b></div><div class=\"sk-container\" hidden><div class=\"sk-item\"><div class=\"sk-estimator sk-toggleable\"><input class=\"sk-toggleable__control sk-hidden--visually\" id=\"sk-estimator-id-1\" type=\"checkbox\" checked><label for=\"sk-estimator-id-1\" class=\"sk-toggleable__label sk-toggleable__label-arrow\">LinearRegression</label><div class=\"sk-toggleable__content\"><pre>LinearRegression()</pre></div></div></div></div></div>"
            ]
          },
          "metadata": {},
          "execution_count": 43
        }
      ]
    },
    {
      "cell_type": "code",
      "source": [
        "model.score(X_test,y_test)"
      ],
      "metadata": {
        "colab": {
          "base_uri": "https://localhost:8080/"
        },
        "id": "9IQ0axyhVVoo",
        "outputId": "04502651-5bdd-495a-95d5-c5bb4aaa3ca6"
      },
      "execution_count": null,
      "outputs": [
        {
          "output_type": "execute_result",
          "data": {
            "text/plain": [
              "0.5441475623036094"
            ]
          },
          "metadata": {},
          "execution_count": 44
        }
      ]
    },
    {
      "cell_type": "code",
      "source": [
        "def gradient_descent(X, y, learning_rate, num_iterations):\n",
        "    m = len(y)\n",
        "    n = X.shape[1]\n",
        "    w = np.zeros(n)\n",
        "    b = 0\n",
        "    costs = []\n",
        "\n",
        "    for i in range(num_iterations):\n",
        "        # Calculate predictions and errors\n",
        "        y_pred = np.dot(X, w) + b\n",
        "        errors = y_pred - y\n",
        "\n",
        "        # Update parameters\n",
        "        w -= (learning_rate / m) * np.dot(errors, X)\n",
        "        b -= (learning_rate / m) * np.sum(errors)\n",
        "\n",
        "        # Calculate cost and append to the list\n",
        "        cost = compute_cost(X, y, w, b)\n",
        "        costs.append(cost)\n",
        "\n",
        "        # Print progress every 100 iterations\n",
        "        if (i + 1) % 100 == 0:\n",
        "            print(f\"Iteration {i+1}/{num_iterations}, Cost: {cost}\")\n",
        "\n",
        "    return w, b, costs\n",
        "\n",
        "def compute_cost(X, y, w, b):\n",
        "    m = len(y)\n",
        "    cost = np.sum((np.dot(X, w) + b - y) ** 2) / (2 * m)\n",
        "    return cost\n",
        "\n",
        "\n",
        "# Set hyperparameters\n",
        "learning_rate = 0.01\n",
        "num_iterations = 1000\n",
        "\n",
        "def r_squared(y_true, y_pred):\n",
        "    numerator = np.sum((y_true - y_pred) ** 2)\n",
        "    denominator = np.sum((y_true - np.mean(y_true)) ** 2)\n",
        "    r2 = 1 - (numerator / denominator)\n",
        "    return r2\n",
        "\n",
        "from sklearn.model_selection import train_test_split\n",
        "\n",
        "# Split the data into train, evaluation, and test sets\n",
        "X_train, X_test, y_train, y_test = train_test_split(X, y, test_size=0.2, random_state=42)\n",
        "X_train, X_eval, y_train, y_eval = train_test_split(X_train, y_train, test_size=0.2, random_state=42)\n",
        "\n",
        "# Perform gradient descent on the train set\n",
        "w, b, costs = gradient_descent(X_train, y_train, learning_rate, num_iterations)\n",
        "\n",
        "# Calculate predictions for train, evaluation, and test sets\n",
        "y_pred_train = np.dot(X_train, w) + b\n",
        "y_pred_eval = np.dot(X_eval, w) + b\n",
        "y_pred_test = np.dot(X_test, w) + b\n",
        "\n",
        "# Calculate R-squared score for train, evaluation, and test sets\n",
        "r2_train = r_squared(y_train, y_pred_train)\n",
        "r2_eval = r_squared(y_eval, y_pred_eval)\n",
        "r2_test = r_squared(y_test, y_pred_test)\n"
      ],
      "metadata": {
        "colab": {
          "base_uri": "https://localhost:8080/"
        },
        "id": "JSgj_w4KUZ1Y",
        "outputId": "0a0d8009-6a7a-485a-ac2c-cdc25aa3a934"
      },
      "execution_count": null,
      "outputs": [
        {
          "output_type": "stream",
          "name": "stdout",
          "text": [
            "Iteration 100/1000, Cost: 0.0018866503149182832\n",
            "Iteration 200/1000, Cost: 0.001857676470796677\n",
            "Iteration 300/1000, Cost: 0.001841384603955465\n",
            "Iteration 400/1000, Cost: 0.0018269294019026253\n",
            "Iteration 500/1000, Cost: 0.001812984645484902\n",
            "Iteration 600/1000, Cost: 0.0017993820019478305\n",
            "Iteration 700/1000, Cost: 0.001786094133690453\n",
            "Iteration 800/1000, Cost: 0.0017731110200565597\n",
            "Iteration 900/1000, Cost: 0.0017604249114668382\n",
            "Iteration 1000/1000, Cost: 0.0017480284954785178\n"
          ]
        }
      ]
    },
    {
      "cell_type": "code",
      "source": [
        "# Print the learned parameters\n",
        "print(\"Learned Parameters:\")\n",
        "print(\"Intercept (b):\", b)\n",
        "print(\"Coefficients (w):\", w)"
      ],
      "metadata": {
        "colab": {
          "base_uri": "https://localhost:8080/"
        },
        "id": "ZuwMn6fj-K1v",
        "outputId": "de5686a2-9b0a-4b6f-d47b-d730560115f4"
      },
      "execution_count": null,
      "outputs": [
        {
          "output_type": "stream",
          "name": "stdout",
          "text": [
            "Learned Parameters:\n",
            "Intercept (b): 0.0080339846087023\n",
            "Coefficients (w): [0.01163818 0.03038836 0.02247296]\n"
          ]
        }
      ]
    },
    {
      "cell_type": "code",
      "source": [
        "# Print the R-squared scores\n",
        "print(\"R-squared score on train set:\", r2_train)\n",
        "print(\"R-squared score on evaluation set:\", r2_eval)\n",
        "print(\"R-squared score on test set:\", r2_test)"
      ],
      "metadata": {
        "colab": {
          "base_uri": "https://localhost:8080/"
        },
        "id": "01GxGjW2R7EW",
        "outputId": "87ead6b9-78f4-42b2-8e2d-e53617b791d6"
      },
      "execution_count": null,
      "outputs": [
        {
          "output_type": "stream",
          "name": "stdout",
          "text": [
            "R-squared score on train set: 0.07927952446130893\n",
            "R-squared score on evaluation set: 0.05300990579608178\n",
            "R-squared score on test set: 0.07223304303800537\n"
          ]
        }
      ]
    },
    {
      "cell_type": "code",
      "source": [
        "# Plot the cost over iterations\n",
        "import matplotlib.pyplot as plt\n",
        "plt.plot(costs)\n",
        "plt.xlabel(\"Iterations\")\n",
        "plt.ylabel(\"Cost\")\n",
        "plt.show()"
      ],
      "metadata": {
        "colab": {
          "base_uri": "https://localhost:8080/",
          "height": 449
        },
        "id": "lYJBLK4k-NZT",
        "outputId": "fa74b939-2f10-4066-f95d-75be613e6904"
      },
      "execution_count": null,
      "outputs": [
        {
          "output_type": "display_data",
          "data": {
            "text/plain": [
              "<Figure size 640x480 with 1 Axes>"
            ],
            "image/png": "[encoded data removed]"
          },
          "metadata": {}
        }
      ]
    }
  ],
  "metadata": {
    "colab": {
      "provenance": []
    },
    "kernelspec": {
      "display_name": "Python 3",
      "name": "python3"
    },
    "language_info": {
      "name": "python"
    }
  },
  "nbformat": 4,
  "nbformat_minor": 0
}